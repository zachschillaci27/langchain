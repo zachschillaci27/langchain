{
 "cells": [
  {
   "attachments": {},
   "cell_type": "markdown",
   "id": "0ed6aab1",
   "metadata": {
    "pycharm": {
     "name": "#%% md\n"
    }
   },
   "source": [
    "# Pandas example\n",
    "\n",
    "This example showcases hooking up an LLM to answer questions and generate Plotly Express plots over a Pandas DataFrame."
   ]
  },
  {
   "attachments": {},
   "cell_type": "markdown",
   "id": "b2f66479",
   "metadata": {
    "pycharm": {
     "name": "#%% md\n"
    }
   },
   "source": [
    "This uses the titanic survival dataset from HuggingFace, see https://huggingface.co/datasets/julien-c/titanic-survival. To download it, use the the HuggingFace `datasets` library. Alternatively, substitute the dataframe with any local dataset you may have."
   ]
  },
  {
   "cell_type": "code",
   "execution_count": 4,
   "id": "d7b2514e",
   "metadata": {},
   "outputs": [
    {
     "name": "stderr",
     "output_type": "stream",
     "text": [
      "Using custom data configuration julien-c--titanic-survival-1f1c84bb27ca5f78\n",
      "Found cached dataset csv (/Users/zschillaci/.cache/huggingface/datasets/julien-c___csv/julien-c--titanic-survival-1f1c84bb27ca5f78/0.0.0/6b34fb8fcf56f7c8ba51dc895bfa2bfbe43546f190a60fcf74bb5e8afdcc2317)\n",
      "100%|██████████| 1/1 [00:00<00:00, 611.95it/s]\n"
     ]
    },
    {
     "data": {
      "text/html": [
       "<div>\n",
       "<style scoped>\n",
       "    .dataframe tbody tr th:only-of-type {\n",
       "        vertical-align: middle;\n",
       "    }\n",
       "\n",
       "    .dataframe tbody tr th {\n",
       "        vertical-align: top;\n",
       "    }\n",
       "\n",
       "    .dataframe thead th {\n",
       "        text-align: right;\n",
       "    }\n",
       "</style>\n",
       "<table border=\"1\" class=\"dataframe\">\n",
       "  <thead>\n",
       "    <tr style=\"text-align: right;\">\n",
       "      <th></th>\n",
       "      <th>Survived</th>\n",
       "      <th>Pclass</th>\n",
       "      <th>Name</th>\n",
       "      <th>Sex</th>\n",
       "      <th>Age</th>\n",
       "      <th>Siblings/Spouses Aboard</th>\n",
       "      <th>Parents/Children Aboard</th>\n",
       "      <th>Fare</th>\n",
       "    </tr>\n",
       "  </thead>\n",
       "  <tbody>\n",
       "    <tr>\n",
       "      <th>0</th>\n",
       "      <td>0</td>\n",
       "      <td>3</td>\n",
       "      <td>Mr. Owen Harris Braund</td>\n",
       "      <td>male</td>\n",
       "      <td>22.0</td>\n",
       "      <td>1</td>\n",
       "      <td>0</td>\n",
       "      <td>7.2500</td>\n",
       "    </tr>\n",
       "    <tr>\n",
       "      <th>1</th>\n",
       "      <td>1</td>\n",
       "      <td>1</td>\n",
       "      <td>Mrs. John Bradley (Florence Briggs Thayer) Cum...</td>\n",
       "      <td>female</td>\n",
       "      <td>38.0</td>\n",
       "      <td>1</td>\n",
       "      <td>0</td>\n",
       "      <td>71.2833</td>\n",
       "    </tr>\n",
       "    <tr>\n",
       "      <th>2</th>\n",
       "      <td>1</td>\n",
       "      <td>3</td>\n",
       "      <td>Miss. Laina Heikkinen</td>\n",
       "      <td>female</td>\n",
       "      <td>26.0</td>\n",
       "      <td>0</td>\n",
       "      <td>0</td>\n",
       "      <td>7.9250</td>\n",
       "    </tr>\n",
       "    <tr>\n",
       "      <th>3</th>\n",
       "      <td>1</td>\n",
       "      <td>1</td>\n",
       "      <td>Mrs. Jacques Heath (Lily May Peel) Futrelle</td>\n",
       "      <td>female</td>\n",
       "      <td>35.0</td>\n",
       "      <td>1</td>\n",
       "      <td>0</td>\n",
       "      <td>53.1000</td>\n",
       "    </tr>\n",
       "    <tr>\n",
       "      <th>4</th>\n",
       "      <td>0</td>\n",
       "      <td>3</td>\n",
       "      <td>Mr. William Henry Allen</td>\n",
       "      <td>male</td>\n",
       "      <td>35.0</td>\n",
       "      <td>0</td>\n",
       "      <td>0</td>\n",
       "      <td>8.0500</td>\n",
       "    </tr>\n",
       "    <tr>\n",
       "      <th>...</th>\n",
       "      <td>...</td>\n",
       "      <td>...</td>\n",
       "      <td>...</td>\n",
       "      <td>...</td>\n",
       "      <td>...</td>\n",
       "      <td>...</td>\n",
       "      <td>...</td>\n",
       "      <td>...</td>\n",
       "    </tr>\n",
       "    <tr>\n",
       "      <th>882</th>\n",
       "      <td>0</td>\n",
       "      <td>2</td>\n",
       "      <td>Rev. Juozas Montvila</td>\n",
       "      <td>male</td>\n",
       "      <td>27.0</td>\n",
       "      <td>0</td>\n",
       "      <td>0</td>\n",
       "      <td>13.0000</td>\n",
       "    </tr>\n",
       "    <tr>\n",
       "      <th>883</th>\n",
       "      <td>1</td>\n",
       "      <td>1</td>\n",
       "      <td>Miss. Margaret Edith Graham</td>\n",
       "      <td>female</td>\n",
       "      <td>19.0</td>\n",
       "      <td>0</td>\n",
       "      <td>0</td>\n",
       "      <td>30.0000</td>\n",
       "    </tr>\n",
       "    <tr>\n",
       "      <th>884</th>\n",
       "      <td>0</td>\n",
       "      <td>3</td>\n",
       "      <td>Miss. Catherine Helen Johnston</td>\n",
       "      <td>female</td>\n",
       "      <td>7.0</td>\n",
       "      <td>1</td>\n",
       "      <td>2</td>\n",
       "      <td>23.4500</td>\n",
       "    </tr>\n",
       "    <tr>\n",
       "      <th>885</th>\n",
       "      <td>1</td>\n",
       "      <td>1</td>\n",
       "      <td>Mr. Karl Howell Behr</td>\n",
       "      <td>male</td>\n",
       "      <td>26.0</td>\n",
       "      <td>0</td>\n",
       "      <td>0</td>\n",
       "      <td>30.0000</td>\n",
       "    </tr>\n",
       "    <tr>\n",
       "      <th>886</th>\n",
       "      <td>0</td>\n",
       "      <td>3</td>\n",
       "      <td>Mr. Patrick Dooley</td>\n",
       "      <td>male</td>\n",
       "      <td>32.0</td>\n",
       "      <td>0</td>\n",
       "      <td>0</td>\n",
       "      <td>7.7500</td>\n",
       "    </tr>\n",
       "  </tbody>\n",
       "</table>\n",
       "<p>887 rows × 8 columns</p>\n",
       "</div>"
      ],
      "text/plain": [
       "     Survived  Pclass                                               Name  \\\n",
       "0           0       3                             Mr. Owen Harris Braund   \n",
       "1           1       1  Mrs. John Bradley (Florence Briggs Thayer) Cum...   \n",
       "2           1       3                              Miss. Laina Heikkinen   \n",
       "3           1       1        Mrs. Jacques Heath (Lily May Peel) Futrelle   \n",
       "4           0       3                            Mr. William Henry Allen   \n",
       "..        ...     ...                                                ...   \n",
       "882         0       2                               Rev. Juozas Montvila   \n",
       "883         1       1                        Miss. Margaret Edith Graham   \n",
       "884         0       3                     Miss. Catherine Helen Johnston   \n",
       "885         1       1                               Mr. Karl Howell Behr   \n",
       "886         0       3                                 Mr. Patrick Dooley   \n",
       "\n",
       "        Sex   Age  Siblings/Spouses Aboard  Parents/Children Aboard     Fare  \n",
       "0      male  22.0                        1                        0   7.2500  \n",
       "1    female  38.0                        1                        0  71.2833  \n",
       "2    female  26.0                        0                        0   7.9250  \n",
       "3    female  35.0                        1                        0  53.1000  \n",
       "4      male  35.0                        0                        0   8.0500  \n",
       "..      ...   ...                      ...                      ...      ...  \n",
       "882    male  27.0                        0                        0  13.0000  \n",
       "883  female  19.0                        0                        0  30.0000  \n",
       "884  female   7.0                        1                        2  23.4500  \n",
       "885    male  26.0                        0                        0  30.0000  \n",
       "886    male  32.0                        0                        0   7.7500  \n",
       "\n",
       "[887 rows x 8 columns]"
      ]
     },
     "execution_count": 4,
     "metadata": {},
     "output_type": "execute_result"
    }
   ],
   "source": [
    "from datasets import load_dataset\n",
    "\n",
    "df = load_dataset(\"julien-c/titanic-survival\")[\"train\"].to_pandas()\n",
    "df"
   ]
  },
  {
   "cell_type": "code",
   "execution_count": 5,
   "id": "d0e27d88",
   "metadata": {
    "pycharm": {
     "name": "#%%\n"
    }
   },
   "outputs": [],
   "source": [
    "from langchain import OpenAI, PandasDataFrameChain"
   ]
  },
  {
   "cell_type": "code",
   "execution_count": 6,
   "id": "1c3b267e",
   "metadata": {},
   "outputs": [],
   "source": [
    "llm = OpenAI(temperature=0)"
   ]
  },
  {
   "cell_type": "code",
   "execution_count": 9,
   "id": "a8fc8f23",
   "metadata": {},
   "outputs": [],
   "source": [
    "df_chain = PandasDataFrameChain.from_llm(llm=llm, dataframe=df, verbose=True)"
   ]
  },
  {
   "attachments": {},
   "cell_type": "markdown",
   "id": "d8786d4c",
   "metadata": {},
   "source": [
    "## Ask direct questions on the dataset\n",
    "These are questions where the output is expected to be a single value (e.g. float, string, etc.)."
   ]
  },
  {
   "cell_type": "code",
   "execution_count": 10,
   "id": "15ff81df",
   "metadata": {
    "pycharm": {
     "name": "#%%\n"
    }
   },
   "outputs": [
    {
     "name": "stdout",
     "output_type": "stream",
     "text": [
      "\n",
      "\n",
      "\u001b[1m> Entering new PandasDataFrameChain chain...\u001b[0m\n",
      "Question: \u001b[36;1m\u001b[1;3mHow many people survived?\u001b[0m\n",
      "Code: \u001b[33;1m\u001b[1;3mdf['Survived'].sum()\u001b[0m\n",
      "Result: \u001b[32;1m\u001b[1;3m342\u001b[0m\n",
      "\u001b[1m> Finished chain.\u001b[0m\n"
     ]
    },
    {
     "data": {
      "text/plain": [
       "{'query': 'How many people survived?',\n",
       " 'code': [\"df['Survived'].sum()\"],\n",
       " 'result': 342}"
      ]
     },
     "execution_count": 10,
     "metadata": {},
     "output_type": "execute_result"
    }
   ],
   "source": [
    "output = df_chain(\"How many people survived?\")\n",
    "output"
   ]
  },
  {
   "attachments": {},
   "cell_type": "markdown",
   "id": "92a21eec",
   "metadata": {},
   "source": [
    "The chain returns both the generated code in the `code` field and the Python output from the code execution in the `result` field."
   ]
  },
  {
   "cell_type": "code",
   "execution_count": 11,
   "id": "acc5d660",
   "metadata": {},
   "outputs": [
    {
     "name": "stdout",
     "output_type": "stream",
     "text": [
      "\n",
      "\n",
      "\u001b[1m> Entering new PandasDataFrameChain chain...\u001b[0m\n",
      "Question: \u001b[36;1m\u001b[1;3mHow many people under 30 died?\u001b[0m\n",
      "Code: \u001b[33;1m\u001b[1;3mdf[df['Age'] < 30]['Survived'].value_counts()[0]\u001b[0m\n",
      "Result: \u001b[32;1m\u001b[1;3m305\u001b[0m\n",
      "\u001b[1m> Finished chain.\u001b[0m\n"
     ]
    },
    {
     "data": {
      "text/plain": [
       "{'query': 'How many people under 30 died?',\n",
       " 'code': [\"df[df['Age'] < 30]['Survived'].value_counts()[0]\"],\n",
       " 'result': 305}"
      ]
     },
     "execution_count": 11,
     "metadata": {},
     "output_type": "execute_result"
    }
   ],
   "source": [
    "output = df_chain(\"How many people under 30 died?\")\n",
    "output"
   ]
  },
  {
   "cell_type": "code",
   "execution_count": 13,
   "id": "b4581f48",
   "metadata": {},
   "outputs": [
    {
     "name": "stdout",
     "output_type": "stream",
     "text": [
      "\n",
      "\n",
      "\u001b[1m> Entering new PandasDataFrameChain chain...\u001b[0m\n",
      "Question: \u001b[36;1m\u001b[1;3mWhat was the average fare in 1st class?\u001b[0m\n",
      "Code: \u001b[33;1m\u001b[1;3mdf[df['Pclass'] == 1]['Fare'].mean()\u001b[0m\n",
      "Result: \u001b[32;1m\u001b[1;3m84.1546875\u001b[0m\n",
      "\u001b[1m> Finished chain.\u001b[0m\n"
     ]
    },
    {
     "data": {
      "text/plain": [
       "{'query': 'What was the average fare in 1st class?',\n",
       " 'code': [\"df[df['Pclass'] == 1]['Fare'].mean()\"],\n",
       " 'result': 84.1546875}"
      ]
     },
     "execution_count": 13,
     "metadata": {},
     "output_type": "execute_result"
    }
   ],
   "source": [
    "output = df_chain(\"What was the average fare in 1st class?\")\n",
    "output"
   ]
  },
  {
   "attachments": {},
   "cell_type": "markdown",
   "id": "aad2cba6",
   "metadata": {},
   "source": [
    "## Filter or transform the dataset\n",
    "These are operations which return a Pandas DataFrame or Series object after applying some filtering or transformation function."
   ]
  },
  {
   "cell_type": "code",
   "execution_count": 14,
   "id": "05ae32b4",
   "metadata": {},
   "outputs": [
    {
     "name": "stdout",
     "output_type": "stream",
     "text": [
      "\n",
      "\n",
      "\u001b[1m> Entering new PandasDataFrameChain chain...\u001b[0m\n",
      "Question: \u001b[36;1m\u001b[1;3mRemove duplicates\u001b[0m\n",
      "Code: \u001b[33;1m\u001b[1;3mdf.drop_duplicates()\u001b[0m\n",
      "Result: \u001b[32;1m\u001b[1;3m     Survived  Pclass                                               Name  \\\n",
      "0           0       3                             Mr. Owen Harris Braund   \n",
      "1           1       1  Mrs. John Bradley (Florence Briggs Thayer) Cum...   \n",
      "2           1       3                              Miss. Laina Heikkinen   \n",
      "3           1       1        Mrs. Jacques Heath (Lily May Peel) Futrelle   \n",
      "4           0       3                            Mr. William Henry Allen   \n",
      "..        ...     ...                                                ...   \n",
      "882         0       2                               Rev. Juozas Montvila   \n",
      "883         1       1                        Miss. Margaret Edith Graham   \n",
      "884         0       3                     Miss. Catherine Helen Johnston   \n",
      "885         1       1                               Mr. Karl Howell Behr   \n",
      "886         0       3                                 Mr. Patrick Dooley   \n",
      "\n",
      "        Sex   Age  Siblings/Spouses Aboard  Parents/Children Aboard     Fare  \n",
      "0      male  22.0                        1                        0   7.2500  \n",
      "1    female  38.0                        1                        0  71.2833  \n",
      "2    female  26.0                        0                        0   7.9250  \n",
      "3    female  35.0                        1                        0  53.1000  \n",
      "4      male  35.0                        0                        0   8.0500  \n",
      "..      ...   ...                      ...                      ...      ...  \n",
      "882    male  27.0                        0                        0  13.0000  \n",
      "883  female  19.0                        0                        0  30.0000  \n",
      "884  female   7.0                        1                        2  23.4500  \n",
      "885    male  26.0                        0                        0  30.0000  \n",
      "886    male  32.0                        0                        0   7.7500  \n",
      "\n",
      "[887 rows x 8 columns]\u001b[0m\n",
      "\u001b[1m> Finished chain.\u001b[0m\n"
     ]
    },
    {
     "data": {
      "text/plain": [
       "{'query': 'Remove duplicates',\n",
       " 'code': ['df.drop_duplicates()'],\n",
       " 'result':      Survived  Pclass                                               Name  \\\n",
       " 0           0       3                             Mr. Owen Harris Braund   \n",
       " 1           1       1  Mrs. John Bradley (Florence Briggs Thayer) Cum...   \n",
       " 2           1       3                              Miss. Laina Heikkinen   \n",
       " 3           1       1        Mrs. Jacques Heath (Lily May Peel) Futrelle   \n",
       " 4           0       3                            Mr. William Henry Allen   \n",
       " ..        ...     ...                                                ...   \n",
       " 882         0       2                               Rev. Juozas Montvila   \n",
       " 883         1       1                        Miss. Margaret Edith Graham   \n",
       " 884         0       3                     Miss. Catherine Helen Johnston   \n",
       " 885         1       1                               Mr. Karl Howell Behr   \n",
       " 886         0       3                                 Mr. Patrick Dooley   \n",
       " \n",
       "         Sex   Age  Siblings/Spouses Aboard  Parents/Children Aboard     Fare  \n",
       " 0      male  22.0                        1                        0   7.2500  \n",
       " 1    female  38.0                        1                        0  71.2833  \n",
       " 2    female  26.0                        0                        0   7.9250  \n",
       " 3    female  35.0                        1                        0  53.1000  \n",
       " 4      male  35.0                        0                        0   8.0500  \n",
       " ..      ...   ...                      ...                      ...      ...  \n",
       " 882    male  27.0                        0                        0  13.0000  \n",
       " 883  female  19.0                        0                        0  30.0000  \n",
       " 884  female   7.0                        1                        2  23.4500  \n",
       " 885    male  26.0                        0                        0  30.0000  \n",
       " 886    male  32.0                        0                        0   7.7500  \n",
       " \n",
       " [887 rows x 8 columns]}"
      ]
     },
     "execution_count": 14,
     "metadata": {},
     "output_type": "execute_result"
    }
   ],
   "source": [
    "output = df_chain(\"Remove duplicates\")\n",
    "output"
   ]
  },
  {
   "cell_type": "code",
   "execution_count": 15,
   "id": "a16f15e3",
   "metadata": {},
   "outputs": [
    {
     "name": "stdout",
     "output_type": "stream",
     "text": [
      "\n",
      "\n",
      "\u001b[1m> Entering new PandasDataFrameChain chain...\u001b[0m\n",
      "Question: \u001b[36;1m\u001b[1;3mAverage fare by class and gender\u001b[0m\n",
      "Code: \u001b[33;1m\u001b[1;3mdf.groupby(['Pclass', 'Sex'])['Fare'].mean()\u001b[0m\n",
      "Result: \u001b[32;1m\u001b[1;3mPclass  Sex   \n",
      "1       female    106.125798\n",
      "        male       67.226127\n",
      "2       female     21.970121\n",
      "        male       19.741782\n",
      "3       female     16.118810\n",
      "        male       12.695466\n",
      "Name: Fare, dtype: float64\u001b[0m\n",
      "\u001b[1m> Finished chain.\u001b[0m\n"
     ]
    },
    {
     "data": {
      "text/plain": [
       "{'query': 'Average fare by class and gender',\n",
       " 'code': [\"df.groupby(['Pclass', 'Sex'])['Fare'].mean()\"],\n",
       " 'result': Pclass  Sex   \n",
       " 1       female    106.125798\n",
       "         male       67.226127\n",
       " 2       female     21.970121\n",
       "         male       19.741782\n",
       " 3       female     16.118810\n",
       "         male       12.695466\n",
       " Name: Fare, dtype: float64}"
      ]
     },
     "execution_count": 15,
     "metadata": {},
     "output_type": "execute_result"
    }
   ],
   "source": [
    "output = df_chain(\"Average fare by class and gender\")\n",
    "output"
   ]
  },
  {
   "cell_type": "code",
   "execution_count": 17,
   "id": "c6166a8a",
   "metadata": {},
   "outputs": [
    {
     "name": "stdout",
     "output_type": "stream",
     "text": [
      "\n",
      "\n",
      "\u001b[1m> Entering new PandasDataFrameChain chain...\u001b[0m\n",
      "Question: \u001b[36;1m\u001b[1;3mRemove men under the age of 30 and sort by fare\u001b[0m\n",
      "Code: \u001b[33;1m\u001b[1;3mdf[(df['Sex'] != 'male') | (df['Age'] >= 30)].sort_values(by='Fare')\u001b[0m\n",
      "Result: \u001b[32;1m\u001b[1;3m     Survived  Pclass                               Name     Sex   Age  \\\n",
      "728         0       2                Mr. Robert J Knight    male  41.0   \n",
      "594         0       3                 Mr. Alfred Johnson    male  49.0   \n",
      "178         0       3                 Mr. Lionel Leonard    male  36.0   \n",
      "630         0       1       Mr. William Henry Marsh Parr    male  30.0   \n",
      "802         0       1              Mr. Thomas Jr Andrews    male  39.0   \n",
      "..        ...     ...                                ...     ...   ...   \n",
      "435         0       1                   Mr. Mark Fortune    male  64.0   \n",
      "339         1       1      Miss. Alice Elizabeth Fortune  female  24.0   \n",
      "257         1       1                    Miss. Anna Ward  female  35.0   \n",
      "733         1       1              Mr. Gustave J Lesurer    male  35.0   \n",
      "676         1       1  Mr. Thomas Drake Martinez Cardeza    male  36.0   \n",
      "\n",
      "     Siblings/Spouses Aboard  Parents/Children Aboard      Fare  \n",
      "728                        0                        0    0.0000  \n",
      "594                        0                        0    0.0000  \n",
      "178                        0                        0    0.0000  \n",
      "630                        0                        0    0.0000  \n",
      "802                        0                        0    0.0000  \n",
      "..                       ...                      ...       ...  \n",
      "435                        1                        4  263.0000  \n",
      "339                        3                        2  263.0000  \n",
      "257                        0                        0  512.3292  \n",
      "733                        0                        0  512.3292  \n",
      "676                        0                        1  512.3292  \n",
      "\n",
      "[576 rows x 8 columns]\u001b[0m\n",
      "\u001b[1m> Finished chain.\u001b[0m\n"
     ]
    },
    {
     "data": {
      "text/plain": [
       "{'query': 'Remove men under the age of 30 and sort by fare',\n",
       " 'code': [\"df[(df['Sex'] != 'male') | (df['Age'] >= 30)].sort_values(by='Fare')\"],\n",
       " 'result':      Survived  Pclass                               Name     Sex   Age  \\\n",
       " 728         0       2                Mr. Robert J Knight    male  41.0   \n",
       " 594         0       3                 Mr. Alfred Johnson    male  49.0   \n",
       " 178         0       3                 Mr. Lionel Leonard    male  36.0   \n",
       " 630         0       1       Mr. William Henry Marsh Parr    male  30.0   \n",
       " 802         0       1              Mr. Thomas Jr Andrews    male  39.0   \n",
       " ..        ...     ...                                ...     ...   ...   \n",
       " 435         0       1                   Mr. Mark Fortune    male  64.0   \n",
       " 339         1       1      Miss. Alice Elizabeth Fortune  female  24.0   \n",
       " 257         1       1                    Miss. Anna Ward  female  35.0   \n",
       " 733         1       1              Mr. Gustave J Lesurer    male  35.0   \n",
       " 676         1       1  Mr. Thomas Drake Martinez Cardeza    male  36.0   \n",
       " \n",
       "      Siblings/Spouses Aboard  Parents/Children Aboard      Fare  \n",
       " 728                        0                        0    0.0000  \n",
       " 594                        0                        0    0.0000  \n",
       " 178                        0                        0    0.0000  \n",
       " 630                        0                        0    0.0000  \n",
       " 802                        0                        0    0.0000  \n",
       " ..                       ...                      ...       ...  \n",
       " 435                        1                        4  263.0000  \n",
       " 339                        3                        2  263.0000  \n",
       " 257                        0                        0  512.3292  \n",
       " 733                        0                        0  512.3292  \n",
       " 676                        0                        1  512.3292  \n",
       " \n",
       " [576 rows x 8 columns]}"
      ]
     },
     "execution_count": 17,
     "metadata": {},
     "output_type": "execute_result"
    }
   ],
   "source": [
    "output = df_chain(\"Remove men under the age of 30 and sort by fare\")\n",
    "output"
   ]
  },
  {
   "attachments": {},
   "cell_type": "markdown",
   "id": "6ec593f2",
   "metadata": {},
   "source": [
    "## Directly generate Plotly figures\n",
    "If you ask for a plot, the generated `df.plot` code will be automatically translated into the equivalent Plotly Express code."
   ]
  },
  {
   "cell_type": "code",
   "execution_count": 19,
   "id": "b90ba1d0",
   "metadata": {},
   "outputs": [
    {
     "name": "stdout",
     "output_type": "stream",
     "text": [
      "\n",
      "\n",
      "\u001b[1m> Entering new PandasDataFrameChain chain...\u001b[0m\n",
      "Question: \u001b[36;1m\u001b[1;3mPlot the fare of people under 30 versus their age, colored by sex\u001b[0m\n",
      "Code: \u001b[33;1m\u001b[1;3mpx.scatter(df.loc[df['Age'] < 30], x='Age', y='Fare', color='Sex', color_continuous_scale='viridis')\u001b[0m\n",
      "Result: \u001b[32;1m\u001b[1;3mFigure({\n",
      "    'data': [{'hovertemplate': 'Sex=male<br>Age=%{x}<br>Fare=%{y}<extra></extra>',\n",
      "              'legendgroup': 'male',\n",
      "              'marker': {'color': '#636efa', 'symbol': 'circle'},\n",
      "              'mode': 'markers',\n",
      "              'name': 'male',\n",
      "              'orientation': 'v',\n",
      "              'showlegend': True,\n",
      "              'type': 'scatter',\n",
      "              'x': array([22., 27.,  2., ..., 25., 27., 26.]),\n",
      "              'xaxis': 'x',\n",
      "              'y': array([ 7.25  ,  8.4583, 21.075 , ...,  7.05  , 13.    , 30.    ]),\n",
      "              'yaxis': 'y'},\n",
      "             {'hovertemplate': 'Sex=female<br>Age=%{x}<br>Fare=%{y}<extra></extra>',\n",
      "              'legendgroup': 'female',\n",
      "              'marker': {'color': '#EF553B', 'symbol': 'circle'},\n",
      "              'mode': 'markers',\n",
      "              'name': 'female',\n",
      "              'orientation': 'v',\n",
      "              'showlegend': True,\n",
      "              'type': 'scatter',\n",
      "              'x': array([26.  , 27.  , 14.  ,  4.  , 14.  , 22.  , 15.  ,  8.  , 24.  , 18.  ,\n",
      "                          18.  , 14.  , 27.  ,  3.  , 19.  , 27.  , 18.  , 29.  , 21.  ,  5.  ,\n",
      "                          29.  , 17.  , 16.  , 17.  , 23.  , 28.  , 21.  , 28.  , 14.5 , 20.  ,\n",
      "                          17.  ,  2.  ,  2.  , 29.  , 19.  , 22.  , 24.  ,  9.  , 22.  , 16.  ,\n",
      "                           1.  ,  8.  ,  4.  , 26.  , 19.  , 21.  , 24.  ,  2.  , 16.  , 27.  ,\n",
      "                          12.  ,  5.  , 21.  ,  8.  , 19.  , 18.  , 25.  , 24.  , 29.  , 29.  ,\n",
      "                          21.  , 22.  , 26.  , 19.  , 24.  ,  2.  , 20.  , 17.  , 24.  , 18.  ,\n",
      "                          26.  , 26.  , 24.  , 22.  , 16.  , 28.  , 24.  , 24.  , 22.  , 22.  ,\n",
      "                          23.  , 22.  , 24.  ,  3.  , 25.  , 22.  ,  1.  , 17.  , 23.  , 24.  ,\n",
      "                          28.  , 21.  , 20.  ,  3.  , 18.  , 10.  , 28.  , 28.  , 19.  , 14.  ,\n",
      "                          21.  , 24.  , 28.  , 13.  ,  5.  ,  0.75, 23.  , 22.  ,  2.  ,  8.  ,\n",
      "                          25.  , 21.  , 21.  , 16.  ,  2.  , 24.  ,  7.  , 22.  ,  9.  , 11.  ,\n",
      "                          19.  , 22.  , 29.  , 22.  , 18.  , 25.  , 18.  , 24.  , 22.  , 18.  ,\n",
      "                          24.  , 26.  ,  4.  , 21.  ,  9.  , 28.  , 24.  ,  2.  ,  0.75, 23.  ,\n",
      "                          18.  , 16.  , 18.  , 18.  , 28.  , 15.  ,  4.  , 19.  , 18.  , 18.  ,\n",
      "                          22.  , 24.  , 27.  ,  6.  , 28.  , 25.  , 29.  , 21.  ,  4.  ,  5.  ,\n",
      "                          13.  , 17.  , 18.  , 21.  , 18.  ,  6.  , 23.  , 27.  , 15.  ,  9.  ,\n",
      "                          16.  , 18.  , 24.  , 14.  , 27.  , 28.  , 15.  , 25.  , 22.  , 19.  ,\n",
      "                           7.  ]),\n",
      "              'xaxis': 'x',\n",
      "              'y': array([  7.925 ,  11.1333,  30.0708,  16.7   ,   7.8542,   7.225 ,   8.0292,\n",
      "                           21.075 ,   7.8792,   7.75  ,  18.    ,  11.2417,  21.    ,  41.5792,\n",
      "                            7.8792,   7.75  ,  17.8   ,  26.    ,  10.5   ,  27.75  ,  10.5   ,\n",
      "                            7.925 ,  46.9   ,  10.5   , 263.    ,   7.8958,   7.65  ,  24.15  ,\n",
      "                           14.4542,   9.825 ,  14.4583,  31.275 ,  22.3583,  26.    ,  26.2833,\n",
      "                            7.75  ,  15.85  ,  34.375 ,  66.6   ,   7.7333,  11.1333,  69.55  ,\n",
      "                           22.025 ,  15.5   ,   7.8542,   7.75  ,  13.    ,  10.4625,   7.75  ,\n",
      "                            7.925 ,  25.4667,  31.3875,   7.55  ,  26.25  ,  14.4542,  15.5   ,\n",
      "                            7.775 ,  14.5   ,  10.4625,  15.2458,   7.75  ,   7.75  ,  78.85  ,\n",
      "                           91.0792,   8.85  , 151.55  ,   7.75  , 108.9   ,  83.1583, 262.375 ,\n",
      "                           26.    ,   7.8542,  26.    ,  29.    ,  57.9792,  23.25  , 263.    ,\n",
      "                           13.    ,  55.    ,   7.8792,   7.8792,   7.75  ,  69.3   ,  21.075 ,\n",
      "                           82.1708,   7.25  ,  15.7417,  12.    , 113.275 ,  16.7   ,  12.65  ,\n",
      "                            9.825 ,   8.6625,  25.4667,  13.    ,  24.15  ,  14.4   ,  26.    ,\n",
      "                           26.    , 120.    ,  34.375 ,  18.75  ,  13.    ,  19.5   ,  19.2583,\n",
      "                           19.2583,  13.7917,   9.8375,  12.2875,  25.4667, 151.55  ,   7.75  ,\n",
      "                            7.6292,  86.5   ,  26.    ,  22.3583,  26.25  ,  49.5   ,  31.275 ,\n",
      "                           31.275 ,  26.    ,   7.775 ,  21.075 ,   7.75  ,  14.4583,  30.    ,\n",
      "                           79.65  ,  27.    ,  41.5792,  15.5   ,  65.    ,  16.1   ,  39.    ,\n",
      "                           77.9583,  27.9   ,  13.    ,  69.3   ,  27.9   ,  19.2583,   7.55  ,\n",
      "                           23.    ,   7.8292,   6.75  ,   9.8417,   8.1375, 211.3375,  13.4167,\n",
      "                            7.7333, 227.525 ,  14.4542, 151.55  ,  49.5042,  10.5   ,  33.    ,\n",
      "                            7.7375,   7.925 , 211.3375, 262.375 ,  23.    ,  12.475 ,   7.2292,\n",
      "                           57.    ,   7.4958,  69.55  ,   7.775 ,  31.275 ,   7.925 ,  12.475 ,\n",
      "                           14.4542,  15.2458,  39.4   ,   9.35  ,  19.2583,  69.55  ,  13.8583,\n",
      "                           24.    ,   7.225 ,  26.    ,  10.5167,  30.    ,  23.45  ]),\n",
      "              'yaxis': 'y'}],\n",
      "    'layout': {'legend': {'title': {'text': 'Sex'}, 'tracegroupgap': 0},\n",
      "               'margin': {'t': 60},\n",
      "               'template': '...',\n",
      "               'xaxis': {'anchor': 'y', 'domain': [0.0, 1.0], 'title': {'text': 'Age'}},\n",
      "               'yaxis': {'anchor': 'x', 'domain': [0.0, 1.0], 'title': {'text': 'Fare'}}}\n",
      "})\u001b[0m\n",
      "\u001b[1m> Finished chain.\u001b[0m\n"
     ]
    },
    {
     "data": {
      "application/vnd.plotly.v1+json": {
       "config": {
        "plotlyServerURL": "https://plot.ly"
       },
       "data": [
        {
         "hovertemplate": "Sex=male<br>Age=%{x}<br>Fare=%{y}<extra></extra>",
         "legendgroup": "male",
         "marker": {
          "color": "#636efa",
          "symbol": "circle"
         },
         "mode": "markers",
         "name": "male",
         "orientation": "v",
         "showlegend": true,
         "type": "scatter",
         "x": [
          22,
          27,
          2,
          20,
          2,
          23,
          28,
          26,
          19,
          23,
          28,
          18,
          21,
          20,
          16,
          7,
          21,
          28.5,
          11,
          22,
          4,
          7,
          19,
          26,
          21,
          26,
          25,
          23,
          28,
          0.83,
          22,
          29,
          28,
          16,
          20,
          24,
          29,
          20,
          26,
          22,
          23,
          29,
          21,
          28,
          29,
          22,
          21,
          29,
          24,
          21,
          19,
          12,
          19,
          24,
          20,
          25,
          23,
          16,
          24,
          19,
          18,
          19,
          27,
          27,
          5,
          26,
          17,
          1,
          9,
          28,
          4,
          21,
          18,
          5,
          9,
          1,
          19,
          3,
          28,
          28,
          17,
          18,
          26,
          24,
          22,
          22,
          16,
          27,
          22,
          22,
          19,
          20.5,
          18,
          29,
          24,
          19,
          29,
          22,
          18,
          3,
          16,
          25,
          28,
          25,
          21,
          7,
          28,
          16,
          19,
          22,
          24,
          23.5,
          24,
          19,
          28,
          0.92,
          28,
          22,
          27,
          20,
          16,
          29,
          2,
          28,
          25,
          3,
          23,
          15,
          25,
          23,
          28,
          29,
          27,
          25,
          18,
          19,
          22,
          27,
          20,
          19,
          27,
          18,
          1,
          19,
          21,
          28,
          22,
          23,
          26,
          28,
          3,
          21,
          27,
          22,
          21,
          29,
          18,
          28,
          28,
          17,
          20,
          25,
          29,
          4,
          28,
          24,
          29,
          17,
          21,
          22,
          29,
          22,
          9,
          25,
          9,
          19,
          21,
          21,
          26,
          24,
          17,
          18,
          28,
          26,
          29,
          24,
          22,
          18,
          23,
          17,
          17,
          27,
          8,
          17,
          27,
          21,
          22,
          28,
          24,
          19,
          28,
          16,
          19,
          16,
          22,
          22,
          18,
          27,
          21,
          22,
          26,
          27,
          20,
          21,
          21,
          26,
          18,
          20,
          19,
          21,
          23,
          21,
          24,
          27,
          23,
          20,
          25,
          19,
          18,
          24.5,
          27,
          20,
          14,
          25,
          14,
          19,
          18,
          25,
          25,
          26,
          4,
          29,
          19,
          17,
          27,
          20,
          25,
          11,
          23,
          23,
          28.5,
          20,
          24,
          16,
          19,
          6,
          23,
          0.67,
          28,
          18,
          23,
          20,
          16,
          28,
          24,
          29,
          18,
          20,
          22,
          29,
          25,
          25,
          8,
          1,
          20,
          16,
          25,
          11,
          0.42,
          27,
          26,
          10,
          27,
          2,
          23,
          1,
          19,
          0.83,
          23,
          18,
          21,
          20,
          29,
          20,
          16,
          17,
          18,
          28,
          4,
          21,
          24,
          23,
          4,
          26,
          20,
          19,
          23,
          28,
          25,
          27,
          26
         ],
         "xaxis": "x",
         "y": [
          7.25,
          8.4583,
          21.075,
          8.05,
          29.125,
          13,
          35.5,
          7.225,
          263,
          7.8958,
          82.1708,
          7.2292,
          8.05,
          15.5,
          21.6792,
          39.6875,
          7.8,
          7.2292,
          46.9,
          7.2292,
          27.9,
          15.2458,
          8.1583,
          8.6625,
          73.5,
          14.4542,
          7.65,
          7.8958,
          8.05,
          29,
          9,
          9.5,
          47.1,
          34.375,
          8.05,
          8.05,
          8.05,
          7.8542,
          20.575,
          8.05,
          63.3583,
          7.8958,
          77.2875,
          7.8958,
          7.775,
          8.05,
          7.925,
          21,
          247.5208,
          73.5,
          8.05,
          11.2417,
          7.75,
          7.1417,
          7.05,
          13,
          15.0458,
          9.2167,
          79.2,
          6.75,
          11.5,
          36.75,
          7.7958,
          7.3125,
          69.55,
          7.775,
          8.6625,
          39.6875,
          20.525,
          56.4958,
          29.125,
          7.925,
          7.8542,
          25.4667,
          31.3875,
          39,
          13,
          26,
          7.75,
          9.5,
          69.55,
          8.05,
          18.7875,
          7.05,
          7.25,
          7.75,
          8.05,
          13,
          7.8958,
          9.35,
          10.5,
          7.25,
          13,
          7.775,
          10.5,
          10.5,
          10.5,
          7.125,
          7.25,
          31.3875,
          39.6875,
          7.775,
          31,
          0,
          0,
          29.125,
          7.8542,
          9.5,
          8.05,
          7.8958,
          7.8958,
          7.2292,
          23.25,
          0,
          8.05,
          151.55,
          7.8958,
          7.25,
          7.8958,
          69.55,
          18,
          66.6,
          26,
          13,
          13,
          15.9,
          9.225,
          7.2292,
          17.8,
          7.225,
          9.5,
          27.7208,
          15.5,
          55.4417,
          6.4958,
          8.05,
          135.6333,
          211.5,
          4.0125,
          7.775,
          7.8958,
          73.5,
          46.9,
          7.7292,
          7.7958,
          7.925,
          7.7958,
          10.5,
          8.05,
          15.85,
          18.75,
          7.775,
          6.8583,
          0,
          7.7333,
          7.875,
          20.2125,
          7.75,
          26.55,
          7.125,
          9.5,
          7.775,
          8.1125,
          81.8583,
          19.9667,
          8.05,
          7.8958,
          7.75,
          0,
          7.725,
          7.0458,
          7.5208,
          46.9,
          91.0792,
          15.9,
          19.9667,
          7.25,
          8.05,
          14.4583,
          7.7958,
          8.6625,
          108.9,
          22.525,
          56.4958,
          7.75,
          7.4958,
          7.8958,
          7.2292,
          11.5,
          7.2292,
          7.2292,
          13.8625,
          36.75,
          110.8833,
          26,
          7.8292,
          7.225,
          13.5,
          24.15,
          7.8958,
          7.2292,
          8.05,
          14.5,
          8.7125,
          8.05,
          8.05,
          7.225,
          30.5,
          7.05,
          7.75,
          10.5,
          14.4542,
          15.7417,
          7.8542,
          16.1,
          7.8958,
          7.7333,
          7.8542,
          7.8958,
          7.55,
          7.8958,
          8.4333,
          73.5,
          7.8958,
          13,
          7.925,
          13,
          0,
          7.775,
          8.05,
          76.7292,
          9.225,
          46.9,
          41.5792,
          39.6875,
          10.1708,
          7.7958,
          7.225,
          7.7417,
          7.8542,
          15.2458,
          9.4833,
          7.65,
          7.0542,
          53.1,
          8.6625,
          26,
          18.7875,
          13,
          13,
          16.1,
          7.8958,
          16.1,
          20.25,
          53.1,
          12.475,
          7.8958,
          14.5,
          7.7958,
          11.5,
          14.5,
          7.2292,
          7.775,
          24.15,
          9.5,
          7.225,
          7.75,
          7.75,
          7.7375,
          30,
          7.05,
          7.25,
          29.125,
          20.575,
          7.75,
          26,
          7.8958,
          120,
          8.5167,
          6.975,
          7.8875,
          27.9,
          8.6625,
          39.6875,
          56.4958,
          37.0042,
          7.75,
          18.75,
          7.8542,
          8.3,
          8.6625,
          8.05,
          29.7,
          7.925,
          10.5,
          8.6625,
          69.55,
          33,
          31.275,
          11.5,
          13,
          9.5,
          11.1333,
          7.8958,
          9.8458,
          7.8958,
          7.8958,
          10.5,
          7.05,
          13,
          30
         ],
         "yaxis": "y"
        },
        {
         "hovertemplate": "Sex=female<br>Age=%{x}<br>Fare=%{y}<extra></extra>",
         "legendgroup": "female",
         "marker": {
          "color": "#EF553B",
          "symbol": "circle"
         },
         "mode": "markers",
         "name": "female",
         "orientation": "v",
         "showlegend": true,
         "type": "scatter",
         "x": [
          26,
          27,
          14,
          4,
          14,
          22,
          15,
          8,
          24,
          18,
          18,
          14,
          27,
          3,
          19,
          27,
          18,
          29,
          21,
          5,
          29,
          17,
          16,
          17,
          23,
          28,
          21,
          28,
          14.5,
          20,
          17,
          2,
          2,
          29,
          19,
          22,
          24,
          9,
          22,
          16,
          1,
          8,
          4,
          26,
          19,
          21,
          24,
          2,
          16,
          27,
          12,
          5,
          21,
          8,
          19,
          18,
          25,
          24,
          29,
          29,
          21,
          22,
          26,
          19,
          24,
          2,
          20,
          17,
          24,
          18,
          26,
          26,
          24,
          22,
          16,
          28,
          24,
          24,
          22,
          22,
          23,
          22,
          24,
          3,
          25,
          22,
          1,
          17,
          23,
          24,
          28,
          21,
          20,
          3,
          18,
          10,
          28,
          28,
          19,
          14,
          21,
          24,
          28,
          13,
          5,
          0.75,
          23,
          22,
          2,
          8,
          25,
          21,
          21,
          16,
          2,
          24,
          7,
          22,
          9,
          11,
          19,
          22,
          29,
          22,
          18,
          25,
          18,
          24,
          22,
          18,
          24,
          26,
          4,
          21,
          9,
          28,
          24,
          2,
          0.75,
          23,
          18,
          16,
          18,
          18,
          28,
          15,
          4,
          19,
          18,
          18,
          22,
          24,
          27,
          6,
          28,
          25,
          29,
          21,
          4,
          5,
          13,
          17,
          18,
          21,
          18,
          6,
          23,
          27,
          15,
          9,
          16,
          18,
          24,
          14,
          27,
          28,
          15,
          25,
          22,
          19,
          7
         ],
         "xaxis": "x",
         "y": [
          7.925,
          11.1333,
          30.0708,
          16.7,
          7.8542,
          7.225,
          8.0292,
          21.075,
          7.8792,
          7.75,
          18,
          11.2417,
          21,
          41.5792,
          7.8792,
          7.75,
          17.8,
          26,
          10.5,
          27.75,
          10.5,
          7.925,
          46.9,
          10.5,
          263,
          7.8958,
          7.65,
          24.15,
          14.4542,
          9.825,
          14.4583,
          31.275,
          22.3583,
          26,
          26.2833,
          7.75,
          15.85,
          34.375,
          66.6,
          7.7333,
          11.1333,
          69.55,
          22.025,
          15.5,
          7.8542,
          7.75,
          13,
          10.4625,
          7.75,
          7.925,
          25.4667,
          31.3875,
          7.55,
          26.25,
          14.4542,
          15.5,
          7.775,
          14.5,
          10.4625,
          15.2458,
          7.75,
          7.75,
          78.85,
          91.0792,
          8.85,
          151.55,
          7.75,
          108.9,
          83.1583,
          262.375,
          26,
          7.8542,
          26,
          29,
          57.9792,
          23.25,
          263,
          13,
          55,
          7.8792,
          7.8792,
          7.75,
          69.3,
          21.075,
          82.1708,
          7.25,
          15.7417,
          12,
          113.275,
          16.7,
          12.65,
          9.825,
          8.6625,
          25.4667,
          13,
          24.15,
          14.4,
          26,
          26,
          120,
          34.375,
          18.75,
          13,
          19.5,
          19.2583,
          19.2583,
          13.7917,
          9.8375,
          12.2875,
          25.4667,
          151.55,
          7.75,
          7.6292,
          86.5,
          26,
          22.3583,
          26.25,
          49.5,
          31.275,
          31.275,
          26,
          7.775,
          21.075,
          7.75,
          14.4583,
          30,
          79.65,
          27,
          41.5792,
          15.5,
          65,
          16.1,
          39,
          77.9583,
          27.9,
          13,
          69.3,
          27.9,
          19.2583,
          7.55,
          23,
          7.8292,
          6.75,
          9.8417,
          8.1375,
          211.3375,
          13.4167,
          7.7333,
          227.525,
          14.4542,
          151.55,
          49.5042,
          10.5,
          33,
          7.7375,
          7.925,
          211.3375,
          262.375,
          23,
          12.475,
          7.2292,
          57,
          7.4958,
          69.55,
          7.775,
          31.275,
          7.925,
          12.475,
          14.4542,
          15.2458,
          39.4,
          9.35,
          19.2583,
          69.55,
          13.8583,
          24,
          7.225,
          26,
          10.5167,
          30,
          23.45
         ],
         "yaxis": "y"
        }
       ],
       "layout": {
        "legend": {
         "title": {
          "text": "Sex"
         },
         "tracegroupgap": 0
        },
        "margin": {
         "t": 60
        },
        "template": {
         "data": {
          "bar": [
           {
            "error_x": {
             "color": "#2a3f5f"
            },
            "error_y": {
             "color": "#2a3f5f"
            },
            "marker": {
             "line": {
              "color": "#E5ECF6",
              "width": 0.5
             },
             "pattern": {
              "fillmode": "overlay",
              "size": 10,
              "solidity": 0.2
             }
            },
            "type": "bar"
           }
          ],
          "barpolar": [
           {
            "marker": {
             "line": {
              "color": "#E5ECF6",
              "width": 0.5
             },
             "pattern": {
              "fillmode": "overlay",
              "size": 10,
              "solidity": 0.2
             }
            },
            "type": "barpolar"
           }
          ],
          "carpet": [
           {
            "aaxis": {
             "endlinecolor": "#2a3f5f",
             "gridcolor": "white",
             "linecolor": "white",
             "minorgridcolor": "white",
             "startlinecolor": "#2a3f5f"
            },
            "baxis": {
             "endlinecolor": "#2a3f5f",
             "gridcolor": "white",
             "linecolor": "white",
             "minorgridcolor": "white",
             "startlinecolor": "#2a3f5f"
            },
            "type": "carpet"
           }
          ],
          "choropleth": [
           {
            "colorbar": {
             "outlinewidth": 0,
             "ticks": ""
            },
            "type": "choropleth"
           }
          ],
          "contour": [
           {
            "colorbar": {
             "outlinewidth": 0,
             "ticks": ""
            },
            "colorscale": [
             [
              0,
              "#0d0887"
             ],
             [
              0.1111111111111111,
              "#46039f"
             ],
             [
              0.2222222222222222,
              "#7201a8"
             ],
             [
              0.3333333333333333,
              "#9c179e"
             ],
             [
              0.4444444444444444,
              "#bd3786"
             ],
             [
              0.5555555555555556,
              "#d8576b"
             ],
             [
              0.6666666666666666,
              "#ed7953"
             ],
             [
              0.7777777777777778,
              "#fb9f3a"
             ],
             [
              0.8888888888888888,
              "#fdca26"
             ],
             [
              1,
              "#f0f921"
             ]
            ],
            "type": "contour"
           }
          ],
          "contourcarpet": [
           {
            "colorbar": {
             "outlinewidth": 0,
             "ticks": ""
            },
            "type": "contourcarpet"
           }
          ],
          "heatmap": [
           {
            "colorbar": {
             "outlinewidth": 0,
             "ticks": ""
            },
            "colorscale": [
             [
              0,
              "#0d0887"
             ],
             [
              0.1111111111111111,
              "#46039f"
             ],
             [
              0.2222222222222222,
              "#7201a8"
             ],
             [
              0.3333333333333333,
              "#9c179e"
             ],
             [
              0.4444444444444444,
              "#bd3786"
             ],
             [
              0.5555555555555556,
              "#d8576b"
             ],
             [
              0.6666666666666666,
              "#ed7953"
             ],
             [
              0.7777777777777778,
              "#fb9f3a"
             ],
             [
              0.8888888888888888,
              "#fdca26"
             ],
             [
              1,
              "#f0f921"
             ]
            ],
            "type": "heatmap"
           }
          ],
          "heatmapgl": [
           {
            "colorbar": {
             "outlinewidth": 0,
             "ticks": ""
            },
            "colorscale": [
             [
              0,
              "#0d0887"
             ],
             [
              0.1111111111111111,
              "#46039f"
             ],
             [
              0.2222222222222222,
              "#7201a8"
             ],
             [
              0.3333333333333333,
              "#9c179e"
             ],
             [
              0.4444444444444444,
              "#bd3786"
             ],
             [
              0.5555555555555556,
              "#d8576b"
             ],
             [
              0.6666666666666666,
              "#ed7953"
             ],
             [
              0.7777777777777778,
              "#fb9f3a"
             ],
             [
              0.8888888888888888,
              "#fdca26"
             ],
             [
              1,
              "#f0f921"
             ]
            ],
            "type": "heatmapgl"
           }
          ],
          "histogram": [
           {
            "marker": {
             "pattern": {
              "fillmode": "overlay",
              "size": 10,
              "solidity": 0.2
             }
            },
            "type": "histogram"
           }
          ],
          "histogram2d": [
           {
            "colorbar": {
             "outlinewidth": 0,
             "ticks": ""
            },
            "colorscale": [
             [
              0,
              "#0d0887"
             ],
             [
              0.1111111111111111,
              "#46039f"
             ],
             [
              0.2222222222222222,
              "#7201a8"
             ],
             [
              0.3333333333333333,
              "#9c179e"
             ],
             [
              0.4444444444444444,
              "#bd3786"
             ],
             [
              0.5555555555555556,
              "#d8576b"
             ],
             [
              0.6666666666666666,
              "#ed7953"
             ],
             [
              0.7777777777777778,
              "#fb9f3a"
             ],
             [
              0.8888888888888888,
              "#fdca26"
             ],
             [
              1,
              "#f0f921"
             ]
            ],
            "type": "histogram2d"
           }
          ],
          "histogram2dcontour": [
           {
            "colorbar": {
             "outlinewidth": 0,
             "ticks": ""
            },
            "colorscale": [
             [
              0,
              "#0d0887"
             ],
             [
              0.1111111111111111,
              "#46039f"
             ],
             [
              0.2222222222222222,
              "#7201a8"
             ],
             [
              0.3333333333333333,
              "#9c179e"
             ],
             [
              0.4444444444444444,
              "#bd3786"
             ],
             [
              0.5555555555555556,
              "#d8576b"
             ],
             [
              0.6666666666666666,
              "#ed7953"
             ],
             [
              0.7777777777777778,
              "#fb9f3a"
             ],
             [
              0.8888888888888888,
              "#fdca26"
             ],
             [
              1,
              "#f0f921"
             ]
            ],
            "type": "histogram2dcontour"
           }
          ],
          "mesh3d": [
           {
            "colorbar": {
             "outlinewidth": 0,
             "ticks": ""
            },
            "type": "mesh3d"
           }
          ],
          "parcoords": [
           {
            "line": {
             "colorbar": {
              "outlinewidth": 0,
              "ticks": ""
             }
            },
            "type": "parcoords"
           }
          ],
          "pie": [
           {
            "automargin": true,
            "type": "pie"
           }
          ],
          "scatter": [
           {
            "fillpattern": {
             "fillmode": "overlay",
             "size": 10,
             "solidity": 0.2
            },
            "type": "scatter"
           }
          ],
          "scatter3d": [
           {
            "line": {
             "colorbar": {
              "outlinewidth": 0,
              "ticks": ""
             }
            },
            "marker": {
             "colorbar": {
              "outlinewidth": 0,
              "ticks": ""
             }
            },
            "type": "scatter3d"
           }
          ],
          "scattercarpet": [
           {
            "marker": {
             "colorbar": {
              "outlinewidth": 0,
              "ticks": ""
             }
            },
            "type": "scattercarpet"
           }
          ],
          "scattergeo": [
           {
            "marker": {
             "colorbar": {
              "outlinewidth": 0,
              "ticks": ""
             }
            },
            "type": "scattergeo"
           }
          ],
          "scattergl": [
           {
            "marker": {
             "colorbar": {
              "outlinewidth": 0,
              "ticks": ""
             }
            },
            "type": "scattergl"
           }
          ],
          "scattermapbox": [
           {
            "marker": {
             "colorbar": {
              "outlinewidth": 0,
              "ticks": ""
             }
            },
            "type": "scattermapbox"
           }
          ],
          "scatterpolar": [
           {
            "marker": {
             "colorbar": {
              "outlinewidth": 0,
              "ticks": ""
             }
            },
            "type": "scatterpolar"
           }
          ],
          "scatterpolargl": [
           {
            "marker": {
             "colorbar": {
              "outlinewidth": 0,
              "ticks": ""
             }
            },
            "type": "scatterpolargl"
           }
          ],
          "scatterternary": [
           {
            "marker": {
             "colorbar": {
              "outlinewidth": 0,
              "ticks": ""
             }
            },
            "type": "scatterternary"
           }
          ],
          "surface": [
           {
            "colorbar": {
             "outlinewidth": 0,
             "ticks": ""
            },
            "colorscale": [
             [
              0,
              "#0d0887"
             ],
             [
              0.1111111111111111,
              "#46039f"
             ],
             [
              0.2222222222222222,
              "#7201a8"
             ],
             [
              0.3333333333333333,
              "#9c179e"
             ],
             [
              0.4444444444444444,
              "#bd3786"
             ],
             [
              0.5555555555555556,
              "#d8576b"
             ],
             [
              0.6666666666666666,
              "#ed7953"
             ],
             [
              0.7777777777777778,
              "#fb9f3a"
             ],
             [
              0.8888888888888888,
              "#fdca26"
             ],
             [
              1,
              "#f0f921"
             ]
            ],
            "type": "surface"
           }
          ],
          "table": [
           {
            "cells": {
             "fill": {
              "color": "#EBF0F8"
             },
             "line": {
              "color": "white"
             }
            },
            "header": {
             "fill": {
              "color": "#C8D4E3"
             },
             "line": {
              "color": "white"
             }
            },
            "type": "table"
           }
          ]
         },
         "layout": {
          "annotationdefaults": {
           "arrowcolor": "#2a3f5f",
           "arrowhead": 0,
           "arrowwidth": 1
          },
          "autotypenumbers": "strict",
          "coloraxis": {
           "colorbar": {
            "outlinewidth": 0,
            "ticks": ""
           }
          },
          "colorscale": {
           "diverging": [
            [
             0,
             "#8e0152"
            ],
            [
             0.1,
             "#c51b7d"
            ],
            [
             0.2,
             "#de77ae"
            ],
            [
             0.3,
             "#f1b6da"
            ],
            [
             0.4,
             "#fde0ef"
            ],
            [
             0.5,
             "#f7f7f7"
            ],
            [
             0.6,
             "#e6f5d0"
            ],
            [
             0.7,
             "#b8e186"
            ],
            [
             0.8,
             "#7fbc41"
            ],
            [
             0.9,
             "#4d9221"
            ],
            [
             1,
             "#276419"
            ]
           ],
           "sequential": [
            [
             0,
             "#0d0887"
            ],
            [
             0.1111111111111111,
             "#46039f"
            ],
            [
             0.2222222222222222,
             "#7201a8"
            ],
            [
             0.3333333333333333,
             "#9c179e"
            ],
            [
             0.4444444444444444,
             "#bd3786"
            ],
            [
             0.5555555555555556,
             "#d8576b"
            ],
            [
             0.6666666666666666,
             "#ed7953"
            ],
            [
             0.7777777777777778,
             "#fb9f3a"
            ],
            [
             0.8888888888888888,
             "#fdca26"
            ],
            [
             1,
             "#f0f921"
            ]
           ],
           "sequentialminus": [
            [
             0,
             "#0d0887"
            ],
            [
             0.1111111111111111,
             "#46039f"
            ],
            [
             0.2222222222222222,
             "#7201a8"
            ],
            [
             0.3333333333333333,
             "#9c179e"
            ],
            [
             0.4444444444444444,
             "#bd3786"
            ],
            [
             0.5555555555555556,
             "#d8576b"
            ],
            [
             0.6666666666666666,
             "#ed7953"
            ],
            [
             0.7777777777777778,
             "#fb9f3a"
            ],
            [
             0.8888888888888888,
             "#fdca26"
            ],
            [
             1,
             "#f0f921"
            ]
           ]
          },
          "colorway": [
           "#636efa",
           "#EF553B",
           "#00cc96",
           "#ab63fa",
           "#FFA15A",
           "#19d3f3",
           "#FF6692",
           "#B6E880",
           "#FF97FF",
           "#FECB52"
          ],
          "font": {
           "color": "#2a3f5f"
          },
          "geo": {
           "bgcolor": "white",
           "lakecolor": "white",
           "landcolor": "#E5ECF6",
           "showlakes": true,
           "showland": true,
           "subunitcolor": "white"
          },
          "hoverlabel": {
           "align": "left"
          },
          "hovermode": "closest",
          "mapbox": {
           "style": "light"
          },
          "paper_bgcolor": "white",
          "plot_bgcolor": "#E5ECF6",
          "polar": {
           "angularaxis": {
            "gridcolor": "white",
            "linecolor": "white",
            "ticks": ""
           },
           "bgcolor": "#E5ECF6",
           "radialaxis": {
            "gridcolor": "white",
            "linecolor": "white",
            "ticks": ""
           }
          },
          "scene": {
           "xaxis": {
            "backgroundcolor": "#E5ECF6",
            "gridcolor": "white",
            "gridwidth": 2,
            "linecolor": "white",
            "showbackground": true,
            "ticks": "",
            "zerolinecolor": "white"
           },
           "yaxis": {
            "backgroundcolor": "#E5ECF6",
            "gridcolor": "white",
            "gridwidth": 2,
            "linecolor": "white",
            "showbackground": true,
            "ticks": "",
            "zerolinecolor": "white"
           },
           "zaxis": {
            "backgroundcolor": "#E5ECF6",
            "gridcolor": "white",
            "gridwidth": 2,
            "linecolor": "white",
            "showbackground": true,
            "ticks": "",
            "zerolinecolor": "white"
           }
          },
          "shapedefaults": {
           "line": {
            "color": "#2a3f5f"
           }
          },
          "ternary": {
           "aaxis": {
            "gridcolor": "white",
            "linecolor": "white",
            "ticks": ""
           },
           "baxis": {
            "gridcolor": "white",
            "linecolor": "white",
            "ticks": ""
           },
           "bgcolor": "#E5ECF6",
           "caxis": {
            "gridcolor": "white",
            "linecolor": "white",
            "ticks": ""
           }
          },
          "title": {
           "x": 0.05
          },
          "xaxis": {
           "automargin": true,
           "gridcolor": "white",
           "linecolor": "white",
           "ticks": "",
           "title": {
            "standoff": 15
           },
           "zerolinecolor": "white",
           "zerolinewidth": 2
          },
          "yaxis": {
           "automargin": true,
           "gridcolor": "white",
           "linecolor": "white",
           "ticks": "",
           "title": {
            "standoff": 15
           },
           "zerolinecolor": "white",
           "zerolinewidth": 2
          }
         }
        },
        "xaxis": {
         "anchor": "y",
         "domain": [
          0,
          1
         ],
         "title": {
          "text": "Age"
         }
        },
        "yaxis": {
         "anchor": "x",
         "domain": [
          0,
          1
         ],
         "title": {
          "text": "Fare"
         }
        }
       }
      }
     },
     "metadata": {},
     "output_type": "display_data"
    }
   ],
   "source": [
    "output = df_chain(\"Plot the fare of people under 30 versus their age, colored by sex\")\n",
    "output[\"result\"]"
   ]
  },
  {
   "cell_type": "code",
   "execution_count": 20,
   "id": "c33985c2",
   "metadata": {},
   "outputs": [
    {
     "name": "stdout",
     "output_type": "stream",
     "text": [
      "\n",
      "\n",
      "\u001b[1m> Entering new PandasDataFrameChain chain...\u001b[0m\n",
      "Question: \u001b[36;1m\u001b[1;3mPlot the average fare per class\u001b[0m\n",
      "Code: \u001b[33;1m\u001b[1;3mpx.line(df.groupby('Pclass').mean().reset_index(), x='Pclass', y='Fare')\u001b[0m\n",
      "Result: \u001b[32;1m\u001b[1;3mFigure({\n",
      "    'data': [{'hovertemplate': 'Pclass=%{x}<br>Fare=%{y}<extra></extra>',\n",
      "              'legendgroup': '',\n",
      "              'line': {'color': '#636efa', 'dash': 'solid'},\n",
      "              'marker': {'symbol': 'circle'},\n",
      "              'mode': 'lines',\n",
      "              'name': '',\n",
      "              'orientation': 'v',\n",
      "              'showlegend': False,\n",
      "              'type': 'scatter',\n",
      "              'x': array([1, 2, 3]),\n",
      "              'xaxis': 'x',\n",
      "              'y': array([84.1546875 , 20.66218315, 13.70770739]),\n",
      "              'yaxis': 'y'}],\n",
      "    'layout': {'legend': {'tracegroupgap': 0},\n",
      "               'margin': {'t': 60},\n",
      "               'template': '...',\n",
      "               'xaxis': {'anchor': 'y', 'domain': [0.0, 1.0], 'title': {'text': 'Pclass'}},\n",
      "               'yaxis': {'anchor': 'x', 'domain': [0.0, 1.0], 'title': {'text': 'Fare'}}}\n",
      "})\u001b[0m\n",
      "\u001b[1m> Finished chain.\u001b[0m\n"
     ]
    },
    {
     "name": "stderr",
     "output_type": "stream",
     "text": [
      "<string>:1: FutureWarning:\n",
      "\n",
      "The default value of numeric_only in DataFrameGroupBy.mean is deprecated. In a future version, numeric_only will default to False. Either specify numeric_only or select only columns which should be valid for the function.\n",
      "\n"
     ]
    },
    {
     "data": {
      "application/vnd.plotly.v1+json": {
       "config": {
        "plotlyServerURL": "https://plot.ly"
       },
       "data": [
        {
         "hovertemplate": "Pclass=%{x}<br>Fare=%{y}<extra></extra>",
         "legendgroup": "",
         "line": {
          "color": "#636efa",
          "dash": "solid"
         },
         "marker": {
          "symbol": "circle"
         },
         "mode": "lines",
         "name": "",
         "orientation": "v",
         "showlegend": false,
         "type": "scatter",
         "x": [
          1,
          2,
          3
         ],
         "xaxis": "x",
         "y": [
          84.1546875,
          20.662183152173913,
          13.707707392197126
         ],
         "yaxis": "y"
        }
       ],
       "layout": {
        "legend": {
         "tracegroupgap": 0
        },
        "margin": {
         "t": 60
        },
        "template": {
         "data": {
          "bar": [
           {
            "error_x": {
             "color": "#2a3f5f"
            },
            "error_y": {
             "color": "#2a3f5f"
            },
            "marker": {
             "line": {
              "color": "#E5ECF6",
              "width": 0.5
             },
             "pattern": {
              "fillmode": "overlay",
              "size": 10,
              "solidity": 0.2
             }
            },
            "type": "bar"
           }
          ],
          "barpolar": [
           {
            "marker": {
             "line": {
              "color": "#E5ECF6",
              "width": 0.5
             },
             "pattern": {
              "fillmode": "overlay",
              "size": 10,
              "solidity": 0.2
             }
            },
            "type": "barpolar"
           }
          ],
          "carpet": [
           {
            "aaxis": {
             "endlinecolor": "#2a3f5f",
             "gridcolor": "white",
             "linecolor": "white",
             "minorgridcolor": "white",
             "startlinecolor": "#2a3f5f"
            },
            "baxis": {
             "endlinecolor": "#2a3f5f",
             "gridcolor": "white",
             "linecolor": "white",
             "minorgridcolor": "white",
             "startlinecolor": "#2a3f5f"
            },
            "type": "carpet"
           }
          ],
          "choropleth": [
           {
            "colorbar": {
             "outlinewidth": 0,
             "ticks": ""
            },
            "type": "choropleth"
           }
          ],
          "contour": [
           {
            "colorbar": {
             "outlinewidth": 0,
             "ticks": ""
            },
            "colorscale": [
             [
              0,
              "#0d0887"
             ],
             [
              0.1111111111111111,
              "#46039f"
             ],
             [
              0.2222222222222222,
              "#7201a8"
             ],
             [
              0.3333333333333333,
              "#9c179e"
             ],
             [
              0.4444444444444444,
              "#bd3786"
             ],
             [
              0.5555555555555556,
              "#d8576b"
             ],
             [
              0.6666666666666666,
              "#ed7953"
             ],
             [
              0.7777777777777778,
              "#fb9f3a"
             ],
             [
              0.8888888888888888,
              "#fdca26"
             ],
             [
              1,
              "#f0f921"
             ]
            ],
            "type": "contour"
           }
          ],
          "contourcarpet": [
           {
            "colorbar": {
             "outlinewidth": 0,
             "ticks": ""
            },
            "type": "contourcarpet"
           }
          ],
          "heatmap": [
           {
            "colorbar": {
             "outlinewidth": 0,
             "ticks": ""
            },
            "colorscale": [
             [
              0,
              "#0d0887"
             ],
             [
              0.1111111111111111,
              "#46039f"
             ],
             [
              0.2222222222222222,
              "#7201a8"
             ],
             [
              0.3333333333333333,
              "#9c179e"
             ],
             [
              0.4444444444444444,
              "#bd3786"
             ],
             [
              0.5555555555555556,
              "#d8576b"
             ],
             [
              0.6666666666666666,
              "#ed7953"
             ],
             [
              0.7777777777777778,
              "#fb9f3a"
             ],
             [
              0.8888888888888888,
              "#fdca26"
             ],
             [
              1,
              "#f0f921"
             ]
            ],
            "type": "heatmap"
           }
          ],
          "heatmapgl": [
           {
            "colorbar": {
             "outlinewidth": 0,
             "ticks": ""
            },
            "colorscale": [
             [
              0,
              "#0d0887"
             ],
             [
              0.1111111111111111,
              "#46039f"
             ],
             [
              0.2222222222222222,
              "#7201a8"
             ],
             [
              0.3333333333333333,
              "#9c179e"
             ],
             [
              0.4444444444444444,
              "#bd3786"
             ],
             [
              0.5555555555555556,
              "#d8576b"
             ],
             [
              0.6666666666666666,
              "#ed7953"
             ],
             [
              0.7777777777777778,
              "#fb9f3a"
             ],
             [
              0.8888888888888888,
              "#fdca26"
             ],
             [
              1,
              "#f0f921"
             ]
            ],
            "type": "heatmapgl"
           }
          ],
          "histogram": [
           {
            "marker": {
             "pattern": {
              "fillmode": "overlay",
              "size": 10,
              "solidity": 0.2
             }
            },
            "type": "histogram"
           }
          ],
          "histogram2d": [
           {
            "colorbar": {
             "outlinewidth": 0,
             "ticks": ""
            },
            "colorscale": [
             [
              0,
              "#0d0887"
             ],
             [
              0.1111111111111111,
              "#46039f"
             ],
             [
              0.2222222222222222,
              "#7201a8"
             ],
             [
              0.3333333333333333,
              "#9c179e"
             ],
             [
              0.4444444444444444,
              "#bd3786"
             ],
             [
              0.5555555555555556,
              "#d8576b"
             ],
             [
              0.6666666666666666,
              "#ed7953"
             ],
             [
              0.7777777777777778,
              "#fb9f3a"
             ],
             [
              0.8888888888888888,
              "#fdca26"
             ],
             [
              1,
              "#f0f921"
             ]
            ],
            "type": "histogram2d"
           }
          ],
          "histogram2dcontour": [
           {
            "colorbar": {
             "outlinewidth": 0,
             "ticks": ""
            },
            "colorscale": [
             [
              0,
              "#0d0887"
             ],
             [
              0.1111111111111111,
              "#46039f"
             ],
             [
              0.2222222222222222,
              "#7201a8"
             ],
             [
              0.3333333333333333,
              "#9c179e"
             ],
             [
              0.4444444444444444,
              "#bd3786"
             ],
             [
              0.5555555555555556,
              "#d8576b"
             ],
             [
              0.6666666666666666,
              "#ed7953"
             ],
             [
              0.7777777777777778,
              "#fb9f3a"
             ],
             [
              0.8888888888888888,
              "#fdca26"
             ],
             [
              1,
              "#f0f921"
             ]
            ],
            "type": "histogram2dcontour"
           }
          ],
          "mesh3d": [
           {
            "colorbar": {
             "outlinewidth": 0,
             "ticks": ""
            },
            "type": "mesh3d"
           }
          ],
          "parcoords": [
           {
            "line": {
             "colorbar": {
              "outlinewidth": 0,
              "ticks": ""
             }
            },
            "type": "parcoords"
           }
          ],
          "pie": [
           {
            "automargin": true,
            "type": "pie"
           }
          ],
          "scatter": [
           {
            "fillpattern": {
             "fillmode": "overlay",
             "size": 10,
             "solidity": 0.2
            },
            "type": "scatter"
           }
          ],
          "scatter3d": [
           {
            "line": {
             "colorbar": {
              "outlinewidth": 0,
              "ticks": ""
             }
            },
            "marker": {
             "colorbar": {
              "outlinewidth": 0,
              "ticks": ""
             }
            },
            "type": "scatter3d"
           }
          ],
          "scattercarpet": [
           {
            "marker": {
             "colorbar": {
              "outlinewidth": 0,
              "ticks": ""
             }
            },
            "type": "scattercarpet"
           }
          ],
          "scattergeo": [
           {
            "marker": {
             "colorbar": {
              "outlinewidth": 0,
              "ticks": ""
             }
            },
            "type": "scattergeo"
           }
          ],
          "scattergl": [
           {
            "marker": {
             "colorbar": {
              "outlinewidth": 0,
              "ticks": ""
             }
            },
            "type": "scattergl"
           }
          ],
          "scattermapbox": [
           {
            "marker": {
             "colorbar": {
              "outlinewidth": 0,
              "ticks": ""
             }
            },
            "type": "scattermapbox"
           }
          ],
          "scatterpolar": [
           {
            "marker": {
             "colorbar": {
              "outlinewidth": 0,
              "ticks": ""
             }
            },
            "type": "scatterpolar"
           }
          ],
          "scatterpolargl": [
           {
            "marker": {
             "colorbar": {
              "outlinewidth": 0,
              "ticks": ""
             }
            },
            "type": "scatterpolargl"
           }
          ],
          "scatterternary": [
           {
            "marker": {
             "colorbar": {
              "outlinewidth": 0,
              "ticks": ""
             }
            },
            "type": "scatterternary"
           }
          ],
          "surface": [
           {
            "colorbar": {
             "outlinewidth": 0,
             "ticks": ""
            },
            "colorscale": [
             [
              0,
              "#0d0887"
             ],
             [
              0.1111111111111111,
              "#46039f"
             ],
             [
              0.2222222222222222,
              "#7201a8"
             ],
             [
              0.3333333333333333,
              "#9c179e"
             ],
             [
              0.4444444444444444,
              "#bd3786"
             ],
             [
              0.5555555555555556,
              "#d8576b"
             ],
             [
              0.6666666666666666,
              "#ed7953"
             ],
             [
              0.7777777777777778,
              "#fb9f3a"
             ],
             [
              0.8888888888888888,
              "#fdca26"
             ],
             [
              1,
              "#f0f921"
             ]
            ],
            "type": "surface"
           }
          ],
          "table": [
           {
            "cells": {
             "fill": {
              "color": "#EBF0F8"
             },
             "line": {
              "color": "white"
             }
            },
            "header": {
             "fill": {
              "color": "#C8D4E3"
             },
             "line": {
              "color": "white"
             }
            },
            "type": "table"
           }
          ]
         },
         "layout": {
          "annotationdefaults": {
           "arrowcolor": "#2a3f5f",
           "arrowhead": 0,
           "arrowwidth": 1
          },
          "autotypenumbers": "strict",
          "coloraxis": {
           "colorbar": {
            "outlinewidth": 0,
            "ticks": ""
           }
          },
          "colorscale": {
           "diverging": [
            [
             0,
             "#8e0152"
            ],
            [
             0.1,
             "#c51b7d"
            ],
            [
             0.2,
             "#de77ae"
            ],
            [
             0.3,
             "#f1b6da"
            ],
            [
             0.4,
             "#fde0ef"
            ],
            [
             0.5,
             "#f7f7f7"
            ],
            [
             0.6,
             "#e6f5d0"
            ],
            [
             0.7,
             "#b8e186"
            ],
            [
             0.8,
             "#7fbc41"
            ],
            [
             0.9,
             "#4d9221"
            ],
            [
             1,
             "#276419"
            ]
           ],
           "sequential": [
            [
             0,
             "#0d0887"
            ],
            [
             0.1111111111111111,
             "#46039f"
            ],
            [
             0.2222222222222222,
             "#7201a8"
            ],
            [
             0.3333333333333333,
             "#9c179e"
            ],
            [
             0.4444444444444444,
             "#bd3786"
            ],
            [
             0.5555555555555556,
             "#d8576b"
            ],
            [
             0.6666666666666666,
             "#ed7953"
            ],
            [
             0.7777777777777778,
             "#fb9f3a"
            ],
            [
             0.8888888888888888,
             "#fdca26"
            ],
            [
             1,
             "#f0f921"
            ]
           ],
           "sequentialminus": [
            [
             0,
             "#0d0887"
            ],
            [
             0.1111111111111111,
             "#46039f"
            ],
            [
             0.2222222222222222,
             "#7201a8"
            ],
            [
             0.3333333333333333,
             "#9c179e"
            ],
            [
             0.4444444444444444,
             "#bd3786"
            ],
            [
             0.5555555555555556,
             "#d8576b"
            ],
            [
             0.6666666666666666,
             "#ed7953"
            ],
            [
             0.7777777777777778,
             "#fb9f3a"
            ],
            [
             0.8888888888888888,
             "#fdca26"
            ],
            [
             1,
             "#f0f921"
            ]
           ]
          },
          "colorway": [
           "#636efa",
           "#EF553B",
           "#00cc96",
           "#ab63fa",
           "#FFA15A",
           "#19d3f3",
           "#FF6692",
           "#B6E880",
           "#FF97FF",
           "#FECB52"
          ],
          "font": {
           "color": "#2a3f5f"
          },
          "geo": {
           "bgcolor": "white",
           "lakecolor": "white",
           "landcolor": "#E5ECF6",
           "showlakes": true,
           "showland": true,
           "subunitcolor": "white"
          },
          "hoverlabel": {
           "align": "left"
          },
          "hovermode": "closest",
          "mapbox": {
           "style": "light"
          },
          "paper_bgcolor": "white",
          "plot_bgcolor": "#E5ECF6",
          "polar": {
           "angularaxis": {
            "gridcolor": "white",
            "linecolor": "white",
            "ticks": ""
           },
           "bgcolor": "#E5ECF6",
           "radialaxis": {
            "gridcolor": "white",
            "linecolor": "white",
            "ticks": ""
           }
          },
          "scene": {
           "xaxis": {
            "backgroundcolor": "#E5ECF6",
            "gridcolor": "white",
            "gridwidth": 2,
            "linecolor": "white",
            "showbackground": true,
            "ticks": "",
            "zerolinecolor": "white"
           },
           "yaxis": {
            "backgroundcolor": "#E5ECF6",
            "gridcolor": "white",
            "gridwidth": 2,
            "linecolor": "white",
            "showbackground": true,
            "ticks": "",
            "zerolinecolor": "white"
           },
           "zaxis": {
            "backgroundcolor": "#E5ECF6",
            "gridcolor": "white",
            "gridwidth": 2,
            "linecolor": "white",
            "showbackground": true,
            "ticks": "",
            "zerolinecolor": "white"
           }
          },
          "shapedefaults": {
           "line": {
            "color": "#2a3f5f"
           }
          },
          "ternary": {
           "aaxis": {
            "gridcolor": "white",
            "linecolor": "white",
            "ticks": ""
           },
           "baxis": {
            "gridcolor": "white",
            "linecolor": "white",
            "ticks": ""
           },
           "bgcolor": "#E5ECF6",
           "caxis": {
            "gridcolor": "white",
            "linecolor": "white",
            "ticks": ""
           }
          },
          "title": {
           "x": 0.05
          },
          "xaxis": {
           "automargin": true,
           "gridcolor": "white",
           "linecolor": "white",
           "ticks": "",
           "title": {
            "standoff": 15
           },
           "zerolinecolor": "white",
           "zerolinewidth": 2
          },
          "yaxis": {
           "automargin": true,
           "gridcolor": "white",
           "linecolor": "white",
           "ticks": "",
           "title": {
            "standoff": 15
           },
           "zerolinecolor": "white",
           "zerolinewidth": 2
          }
         }
        },
        "xaxis": {
         "anchor": "y",
         "domain": [
          0,
          1
         ],
         "title": {
          "text": "Pclass"
         }
        },
        "yaxis": {
         "anchor": "x",
         "domain": [
          0,
          1
         ],
         "title": {
          "text": "Fare"
         }
        }
       }
      }
     },
     "metadata": {},
     "output_type": "display_data"
    }
   ],
   "source": [
    "output = df_chain(\"Plot the average fare per class\")\n",
    "output[\"result\"]"
   ]
  },
  {
   "attachments": {},
   "cell_type": "markdown",
   "id": "15d1962a",
   "metadata": {},
   "source": [
    "You can even specify the plot type you would like!"
   ]
  },
  {
   "cell_type": "code",
   "execution_count": 21,
   "id": "f238525a",
   "metadata": {},
   "outputs": [
    {
     "name": "stdout",
     "output_type": "stream",
     "text": [
      "\n",
      "\n",
      "\u001b[1m> Entering new PandasDataFrameChain chain...\u001b[0m\n",
      "Question: \u001b[36;1m\u001b[1;3mPlot the average fare per class (bar)\u001b[0m\n",
      "Code: \u001b[33;1m\u001b[1;3mpx.bar(df.groupby('Pclass').mean().reset_index(), x='Pclass', y='Fare', barmode='group')\u001b[0m\n",
      "Result: \u001b[32;1m\u001b[1;3mFigure({\n",
      "    'data': [{'alignmentgroup': 'True',\n",
      "              'hovertemplate': 'Pclass=%{x}<br>Fare=%{y}<extra></extra>',\n",
      "              'legendgroup': '',\n",
      "              'marker': {'color': '#636efa', 'pattern': {'shape': ''}},\n",
      "              'name': '',\n",
      "              'offsetgroup': '',\n",
      "              'orientation': 'v',\n",
      "              'showlegend': False,\n",
      "              'textposition': 'auto',\n",
      "              'type': 'bar',\n",
      "              'x': array([1, 2, 3]),\n",
      "              'xaxis': 'x',\n",
      "              'y': array([84.1546875 , 20.66218315, 13.70770739]),\n",
      "              'yaxis': 'y'}],\n",
      "    'layout': {'barmode': 'group',\n",
      "               'legend': {'tracegroupgap': 0},\n",
      "               'margin': {'t': 60},\n",
      "               'template': '...',\n",
      "               'xaxis': {'anchor': 'y', 'domain': [0.0, 1.0], 'title': {'text': 'Pclass'}},\n",
      "               'yaxis': {'anchor': 'x', 'domain': [0.0, 1.0], 'title': {'text': 'Fare'}}}\n",
      "})\u001b[0m\n",
      "\u001b[1m> Finished chain.\u001b[0m\n"
     ]
    },
    {
     "name": "stderr",
     "output_type": "stream",
     "text": [
      "<string>:1: FutureWarning:\n",
      "\n",
      "The default value of numeric_only in DataFrameGroupBy.mean is deprecated. In a future version, numeric_only will default to False. Either specify numeric_only or select only columns which should be valid for the function.\n",
      "\n"
     ]
    },
    {
     "data": {
      "application/vnd.plotly.v1+json": {
       "config": {
        "plotlyServerURL": "https://plot.ly"
       },
       "data": [
        {
         "alignmentgroup": "True",
         "hovertemplate": "Pclass=%{x}<br>Fare=%{y}<extra></extra>",
         "legendgroup": "",
         "marker": {
          "color": "#636efa",
          "pattern": {
           "shape": ""
          }
         },
         "name": "",
         "offsetgroup": "",
         "orientation": "v",
         "showlegend": false,
         "textposition": "auto",
         "type": "bar",
         "x": [
          1,
          2,
          3
         ],
         "xaxis": "x",
         "y": [
          84.1546875,
          20.662183152173913,
          13.707707392197126
         ],
         "yaxis": "y"
        }
       ],
       "layout": {
        "barmode": "group",
        "legend": {
         "tracegroupgap": 0
        },
        "margin": {
         "t": 60
        },
        "template": {
         "data": {
          "bar": [
           {
            "error_x": {
             "color": "#2a3f5f"
            },
            "error_y": {
             "color": "#2a3f5f"
            },
            "marker": {
             "line": {
              "color": "#E5ECF6",
              "width": 0.5
             },
             "pattern": {
              "fillmode": "overlay",
              "size": 10,
              "solidity": 0.2
             }
            },
            "type": "bar"
           }
          ],
          "barpolar": [
           {
            "marker": {
             "line": {
              "color": "#E5ECF6",
              "width": 0.5
             },
             "pattern": {
              "fillmode": "overlay",
              "size": 10,
              "solidity": 0.2
             }
            },
            "type": "barpolar"
           }
          ],
          "carpet": [
           {
            "aaxis": {
             "endlinecolor": "#2a3f5f",
             "gridcolor": "white",
             "linecolor": "white",
             "minorgridcolor": "white",
             "startlinecolor": "#2a3f5f"
            },
            "baxis": {
             "endlinecolor": "#2a3f5f",
             "gridcolor": "white",
             "linecolor": "white",
             "minorgridcolor": "white",
             "startlinecolor": "#2a3f5f"
            },
            "type": "carpet"
           }
          ],
          "choropleth": [
           {
            "colorbar": {
             "outlinewidth": 0,
             "ticks": ""
            },
            "type": "choropleth"
           }
          ],
          "contour": [
           {
            "colorbar": {
             "outlinewidth": 0,
             "ticks": ""
            },
            "colorscale": [
             [
              0,
              "#0d0887"
             ],
             [
              0.1111111111111111,
              "#46039f"
             ],
             [
              0.2222222222222222,
              "#7201a8"
             ],
             [
              0.3333333333333333,
              "#9c179e"
             ],
             [
              0.4444444444444444,
              "#bd3786"
             ],
             [
              0.5555555555555556,
              "#d8576b"
             ],
             [
              0.6666666666666666,
              "#ed7953"
             ],
             [
              0.7777777777777778,
              "#fb9f3a"
             ],
             [
              0.8888888888888888,
              "#fdca26"
             ],
             [
              1,
              "#f0f921"
             ]
            ],
            "type": "contour"
           }
          ],
          "contourcarpet": [
           {
            "colorbar": {
             "outlinewidth": 0,
             "ticks": ""
            },
            "type": "contourcarpet"
           }
          ],
          "heatmap": [
           {
            "colorbar": {
             "outlinewidth": 0,
             "ticks": ""
            },
            "colorscale": [
             [
              0,
              "#0d0887"
             ],
             [
              0.1111111111111111,
              "#46039f"
             ],
             [
              0.2222222222222222,
              "#7201a8"
             ],
             [
              0.3333333333333333,
              "#9c179e"
             ],
             [
              0.4444444444444444,
              "#bd3786"
             ],
             [
              0.5555555555555556,
              "#d8576b"
             ],
             [
              0.6666666666666666,
              "#ed7953"
             ],
             [
              0.7777777777777778,
              "#fb9f3a"
             ],
             [
              0.8888888888888888,
              "#fdca26"
             ],
             [
              1,
              "#f0f921"
             ]
            ],
            "type": "heatmap"
           }
          ],
          "heatmapgl": [
           {
            "colorbar": {
             "outlinewidth": 0,
             "ticks": ""
            },
            "colorscale": [
             [
              0,
              "#0d0887"
             ],
             [
              0.1111111111111111,
              "#46039f"
             ],
             [
              0.2222222222222222,
              "#7201a8"
             ],
             [
              0.3333333333333333,
              "#9c179e"
             ],
             [
              0.4444444444444444,
              "#bd3786"
             ],
             [
              0.5555555555555556,
              "#d8576b"
             ],
             [
              0.6666666666666666,
              "#ed7953"
             ],
             [
              0.7777777777777778,
              "#fb9f3a"
             ],
             [
              0.8888888888888888,
              "#fdca26"
             ],
             [
              1,
              "#f0f921"
             ]
            ],
            "type": "heatmapgl"
           }
          ],
          "histogram": [
           {
            "marker": {
             "pattern": {
              "fillmode": "overlay",
              "size": 10,
              "solidity": 0.2
             }
            },
            "type": "histogram"
           }
          ],
          "histogram2d": [
           {
            "colorbar": {
             "outlinewidth": 0,
             "ticks": ""
            },
            "colorscale": [
             [
              0,
              "#0d0887"
             ],
             [
              0.1111111111111111,
              "#46039f"
             ],
             [
              0.2222222222222222,
              "#7201a8"
             ],
             [
              0.3333333333333333,
              "#9c179e"
             ],
             [
              0.4444444444444444,
              "#bd3786"
             ],
             [
              0.5555555555555556,
              "#d8576b"
             ],
             [
              0.6666666666666666,
              "#ed7953"
             ],
             [
              0.7777777777777778,
              "#fb9f3a"
             ],
             [
              0.8888888888888888,
              "#fdca26"
             ],
             [
              1,
              "#f0f921"
             ]
            ],
            "type": "histogram2d"
           }
          ],
          "histogram2dcontour": [
           {
            "colorbar": {
             "outlinewidth": 0,
             "ticks": ""
            },
            "colorscale": [
             [
              0,
              "#0d0887"
             ],
             [
              0.1111111111111111,
              "#46039f"
             ],
             [
              0.2222222222222222,
              "#7201a8"
             ],
             [
              0.3333333333333333,
              "#9c179e"
             ],
             [
              0.4444444444444444,
              "#bd3786"
             ],
             [
              0.5555555555555556,
              "#d8576b"
             ],
             [
              0.6666666666666666,
              "#ed7953"
             ],
             [
              0.7777777777777778,
              "#fb9f3a"
             ],
             [
              0.8888888888888888,
              "#fdca26"
             ],
             [
              1,
              "#f0f921"
             ]
            ],
            "type": "histogram2dcontour"
           }
          ],
          "mesh3d": [
           {
            "colorbar": {
             "outlinewidth": 0,
             "ticks": ""
            },
            "type": "mesh3d"
           }
          ],
          "parcoords": [
           {
            "line": {
             "colorbar": {
              "outlinewidth": 0,
              "ticks": ""
             }
            },
            "type": "parcoords"
           }
          ],
          "pie": [
           {
            "automargin": true,
            "type": "pie"
           }
          ],
          "scatter": [
           {
            "fillpattern": {
             "fillmode": "overlay",
             "size": 10,
             "solidity": 0.2
            },
            "type": "scatter"
           }
          ],
          "scatter3d": [
           {
            "line": {
             "colorbar": {
              "outlinewidth": 0,
              "ticks": ""
             }
            },
            "marker": {
             "colorbar": {
              "outlinewidth": 0,
              "ticks": ""
             }
            },
            "type": "scatter3d"
           }
          ],
          "scattercarpet": [
           {
            "marker": {
             "colorbar": {
              "outlinewidth": 0,
              "ticks": ""
             }
            },
            "type": "scattercarpet"
           }
          ],
          "scattergeo": [
           {
            "marker": {
             "colorbar": {
              "outlinewidth": 0,
              "ticks": ""
             }
            },
            "type": "scattergeo"
           }
          ],
          "scattergl": [
           {
            "marker": {
             "colorbar": {
              "outlinewidth": 0,
              "ticks": ""
             }
            },
            "type": "scattergl"
           }
          ],
          "scattermapbox": [
           {
            "marker": {
             "colorbar": {
              "outlinewidth": 0,
              "ticks": ""
             }
            },
            "type": "scattermapbox"
           }
          ],
          "scatterpolar": [
           {
            "marker": {
             "colorbar": {
              "outlinewidth": 0,
              "ticks": ""
             }
            },
            "type": "scatterpolar"
           }
          ],
          "scatterpolargl": [
           {
            "marker": {
             "colorbar": {
              "outlinewidth": 0,
              "ticks": ""
             }
            },
            "type": "scatterpolargl"
           }
          ],
          "scatterternary": [
           {
            "marker": {
             "colorbar": {
              "outlinewidth": 0,
              "ticks": ""
             }
            },
            "type": "scatterternary"
           }
          ],
          "surface": [
           {
            "colorbar": {
             "outlinewidth": 0,
             "ticks": ""
            },
            "colorscale": [
             [
              0,
              "#0d0887"
             ],
             [
              0.1111111111111111,
              "#46039f"
             ],
             [
              0.2222222222222222,
              "#7201a8"
             ],
             [
              0.3333333333333333,
              "#9c179e"
             ],
             [
              0.4444444444444444,
              "#bd3786"
             ],
             [
              0.5555555555555556,
              "#d8576b"
             ],
             [
              0.6666666666666666,
              "#ed7953"
             ],
             [
              0.7777777777777778,
              "#fb9f3a"
             ],
             [
              0.8888888888888888,
              "#fdca26"
             ],
             [
              1,
              "#f0f921"
             ]
            ],
            "type": "surface"
           }
          ],
          "table": [
           {
            "cells": {
             "fill": {
              "color": "#EBF0F8"
             },
             "line": {
              "color": "white"
             }
            },
            "header": {
             "fill": {
              "color": "#C8D4E3"
             },
             "line": {
              "color": "white"
             }
            },
            "type": "table"
           }
          ]
         },
         "layout": {
          "annotationdefaults": {
           "arrowcolor": "#2a3f5f",
           "arrowhead": 0,
           "arrowwidth": 1
          },
          "autotypenumbers": "strict",
          "coloraxis": {
           "colorbar": {
            "outlinewidth": 0,
            "ticks": ""
           }
          },
          "colorscale": {
           "diverging": [
            [
             0,
             "#8e0152"
            ],
            [
             0.1,
             "#c51b7d"
            ],
            [
             0.2,
             "#de77ae"
            ],
            [
             0.3,
             "#f1b6da"
            ],
            [
             0.4,
             "#fde0ef"
            ],
            [
             0.5,
             "#f7f7f7"
            ],
            [
             0.6,
             "#e6f5d0"
            ],
            [
             0.7,
             "#b8e186"
            ],
            [
             0.8,
             "#7fbc41"
            ],
            [
             0.9,
             "#4d9221"
            ],
            [
             1,
             "#276419"
            ]
           ],
           "sequential": [
            [
             0,
             "#0d0887"
            ],
            [
             0.1111111111111111,
             "#46039f"
            ],
            [
             0.2222222222222222,
             "#7201a8"
            ],
            [
             0.3333333333333333,
             "#9c179e"
            ],
            [
             0.4444444444444444,
             "#bd3786"
            ],
            [
             0.5555555555555556,
             "#d8576b"
            ],
            [
             0.6666666666666666,
             "#ed7953"
            ],
            [
             0.7777777777777778,
             "#fb9f3a"
            ],
            [
             0.8888888888888888,
             "#fdca26"
            ],
            [
             1,
             "#f0f921"
            ]
           ],
           "sequentialminus": [
            [
             0,
             "#0d0887"
            ],
            [
             0.1111111111111111,
             "#46039f"
            ],
            [
             0.2222222222222222,
             "#7201a8"
            ],
            [
             0.3333333333333333,
             "#9c179e"
            ],
            [
             0.4444444444444444,
             "#bd3786"
            ],
            [
             0.5555555555555556,
             "#d8576b"
            ],
            [
             0.6666666666666666,
             "#ed7953"
            ],
            [
             0.7777777777777778,
             "#fb9f3a"
            ],
            [
             0.8888888888888888,
             "#fdca26"
            ],
            [
             1,
             "#f0f921"
            ]
           ]
          },
          "colorway": [
           "#636efa",
           "#EF553B",
           "#00cc96",
           "#ab63fa",
           "#FFA15A",
           "#19d3f3",
           "#FF6692",
           "#B6E880",
           "#FF97FF",
           "#FECB52"
          ],
          "font": {
           "color": "#2a3f5f"
          },
          "geo": {
           "bgcolor": "white",
           "lakecolor": "white",
           "landcolor": "#E5ECF6",
           "showlakes": true,
           "showland": true,
           "subunitcolor": "white"
          },
          "hoverlabel": {
           "align": "left"
          },
          "hovermode": "closest",
          "mapbox": {
           "style": "light"
          },
          "paper_bgcolor": "white",
          "plot_bgcolor": "#E5ECF6",
          "polar": {
           "angularaxis": {
            "gridcolor": "white",
            "linecolor": "white",
            "ticks": ""
           },
           "bgcolor": "#E5ECF6",
           "radialaxis": {
            "gridcolor": "white",
            "linecolor": "white",
            "ticks": ""
           }
          },
          "scene": {
           "xaxis": {
            "backgroundcolor": "#E5ECF6",
            "gridcolor": "white",
            "gridwidth": 2,
            "linecolor": "white",
            "showbackground": true,
            "ticks": "",
            "zerolinecolor": "white"
           },
           "yaxis": {
            "backgroundcolor": "#E5ECF6",
            "gridcolor": "white",
            "gridwidth": 2,
            "linecolor": "white",
            "showbackground": true,
            "ticks": "",
            "zerolinecolor": "white"
           },
           "zaxis": {
            "backgroundcolor": "#E5ECF6",
            "gridcolor": "white",
            "gridwidth": 2,
            "linecolor": "white",
            "showbackground": true,
            "ticks": "",
            "zerolinecolor": "white"
           }
          },
          "shapedefaults": {
           "line": {
            "color": "#2a3f5f"
           }
          },
          "ternary": {
           "aaxis": {
            "gridcolor": "white",
            "linecolor": "white",
            "ticks": ""
           },
           "baxis": {
            "gridcolor": "white",
            "linecolor": "white",
            "ticks": ""
           },
           "bgcolor": "#E5ECF6",
           "caxis": {
            "gridcolor": "white",
            "linecolor": "white",
            "ticks": ""
           }
          },
          "title": {
           "x": 0.05
          },
          "xaxis": {
           "automargin": true,
           "gridcolor": "white",
           "linecolor": "white",
           "ticks": "",
           "title": {
            "standoff": 15
           },
           "zerolinecolor": "white",
           "zerolinewidth": 2
          },
          "yaxis": {
           "automargin": true,
           "gridcolor": "white",
           "linecolor": "white",
           "ticks": "",
           "title": {
            "standoff": 15
           },
           "zerolinecolor": "white",
           "zerolinewidth": 2
          }
         }
        },
        "xaxis": {
         "anchor": "y",
         "domain": [
          0,
          1
         ],
         "title": {
          "text": "Pclass"
         }
        },
        "yaxis": {
         "anchor": "x",
         "domain": [
          0,
          1
         ],
         "title": {
          "text": "Fare"
         }
        }
       }
      }
     },
     "metadata": {},
     "output_type": "display_data"
    }
   ],
   "source": [
    "output = df_chain(\"Plot the average fare per class (bar)\")\n",
    "output[\"result\"]"
   ]
  },
  {
   "cell_type": "code",
   "execution_count": null,
   "id": "c815b10c",
   "metadata": {},
   "outputs": [],
   "source": []
  }
 ],
 "metadata": {
  "kernelspec": {
   "display_name": "langchain",
   "language": "python",
   "name": "python3"
  },
  "language_info": {
   "codemirror_mode": {
    "name": "ipython",
    "version": 3
   },
   "file_extension": ".py",
   "mimetype": "text/x-python",
   "name": "python",
   "nbconvert_exporter": "python",
   "pygments_lexer": "ipython3",
   "version": "3.10.9"
  },
  "vscode": {
   "interpreter": {
    "hash": "a2cd11e6ea76dc5e930df6257987a7551e047261dd9bf25e424863e78aecb064"
   }
  }
 },
 "nbformat": 4,
 "nbformat_minor": 5
}
