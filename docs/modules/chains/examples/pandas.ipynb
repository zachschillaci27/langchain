{
 "cells": [
  {
   "attachments": {},
   "cell_type": "markdown",
   "id": "0ed6aab1",
   "metadata": {
    "pycharm": {
     "name": "#%% md\n"
    }
   },
   "source": [
    "# Pandas example\n",
    "\n",
    "This example showcases hooking up an LLM to answer questions and generate Plotly Express plots over a Pandas DataFrame."
   ]
  },
  {
   "attachments": {},
   "cell_type": "markdown",
   "id": "b2f66479",
   "metadata": {
    "pycharm": {
     "name": "#%% md\n"
    }
   },
   "source": [
    "This uses the titanic survival dataset from HuggingFace, see https://huggingface.co/datasets/julien-c/titanic-survival. To download it, use the the HuggingFace `datasets` library. Alternatively, substitute the dataframe with any local dataset you may have."
   ]
  },
  {
   "cell_type": "code",
   "execution_count": null,
   "id": "d7b2514e",
   "metadata": {},
   "outputs": [],
   "source": [
    "from datasets import load_dataset\n",
    "\n",
    "df = load_dataset(\"julien-c/titanic-survival\")[\"train\"].to_pandas()\n",
    "df"
   ]
  },
  {
   "cell_type": "code",
   "execution_count": null,
   "id": "d0e27d88",
   "metadata": {
    "pycharm": {
     "name": "#%%\n"
    }
   },
   "outputs": [],
   "source": [
    "from langchain import OpenAI, PandasDataFrameChain"
   ]
  },
  {
   "cell_type": "code",
   "execution_count": null,
   "id": "1c3b267e",
   "metadata": {},
   "outputs": [],
   "source": [
    "llm = OpenAI(temperature=0)"
   ]
  },
  {
   "cell_type": "code",
   "execution_count": null,
   "id": "a8fc8f23",
   "metadata": {},
   "outputs": [],
   "source": [
    "df_chain = PandasDataFrameChain.from_llm(llm=llm, dataframe=df, verbose=True)"
   ]
  },
  {
   "attachments": {},
   "cell_type": "markdown",
   "id": "d8786d4c",
   "metadata": {},
   "source": [
    "## Ask direct questions on the dataset\n",
    "These are questions where the output is expected to be a single value (e.g. float, string, etc.)."
   ]
  },
  {
   "cell_type": "code",
   "execution_count": null,
   "id": "15ff81df",
   "metadata": {
    "pycharm": {
     "name": "#%%\n"
    }
   },
   "outputs": [],
   "source": [
    "output = df_chain(\"How many people survived?\")\n",
    "output"
   ]
  },
  {
   "attachments": {},
   "cell_type": "markdown",
   "id": "92a21eec",
   "metadata": {},
   "source": [
    "The chain returns both the generated code in the `code` field and the Python output from the code execution in the `result` field."
   ]
  },
  {
   "cell_type": "code",
   "execution_count": null,
   "id": "acc5d660",
   "metadata": {},
   "outputs": [],
   "source": [
    "output = df_chain(\"How many people under 30 died?\")\n",
    "output"
   ]
  },
  {
   "cell_type": "code",
   "execution_count": null,
   "id": "b4581f48",
   "metadata": {},
   "outputs": [],
   "source": [
    "output = df_chain(\"What was the average fare in 1st class?\")\n",
    "output"
   ]
  },
  {
   "cell_type": "code",
   "execution_count": null,
   "id": "167c66fc",
   "metadata": {},
   "outputs": [],
   "source": [
    "output = df_chain(\"What's the most common male last name?\")\n",
    "output"
   ]
  },
  {
   "attachments": {},
   "cell_type": "markdown",
   "id": "a38c4b1e",
   "metadata": {},
   "source": [
    "The prompt discourages the access of non-existent columns or variables, but in the event it fails a `NameError` or `KeyError` will be raised."
   ]
  },
  {
   "cell_type": "code",
   "execution_count": null,
   "id": "22dd73c3",
   "metadata": {},
   "outputs": [],
   "source": [
    "output = df_chain(\"Get the sum of the passenger height column and divide by z\")\n",
    "output[\"result\"]"
   ]
  },
  {
   "attachments": {},
   "cell_type": "markdown",
   "id": "aad2cba6",
   "metadata": {},
   "source": [
    "## Filter or transform the dataset\n",
    "These are operations which return a Pandas DataFrame or Series object after applying some filtering or transformation function."
   ]
  },
  {
   "cell_type": "code",
   "execution_count": null,
   "id": "05ae32b4",
   "metadata": {},
   "outputs": [],
   "source": [
    "output = df_chain(\"Remove duplicates\")\n",
    "output"
   ]
  },
  {
   "cell_type": "code",
   "execution_count": null,
   "id": "a16f15e3",
   "metadata": {},
   "outputs": [],
   "source": [
    "output = df_chain(\"Average fare by class and gender\")\n",
    "output"
   ]
  },
  {
   "cell_type": "code",
   "execution_count": null,
   "id": "c6166a8a",
   "metadata": {},
   "outputs": [],
   "source": [
    "output = df_chain(\"Remove men under the age of 30 and sort by fare\")\n",
    "output"
   ]
  },
  {
   "attachments": {},
   "cell_type": "markdown",
   "id": "6ec593f2",
   "metadata": {},
   "source": [
    "## Directly generate Plotly figures\n",
    "If you ask for a plot, the generated `df.plot` code will be automatically translated into the equivalent Plotly Express code."
   ]
  },
  {
   "cell_type": "code",
   "execution_count": null,
   "id": "b90ba1d0",
   "metadata": {},
   "outputs": [],
   "source": [
    "output = df_chain(\"Plot the fare of people under 30 versus their age, colored by sex\")\n",
    "output[\"result\"]"
   ]
  },
  {
   "cell_type": "code",
   "execution_count": null,
   "id": "c33985c2",
   "metadata": {},
   "outputs": [],
   "source": [
    "output = df_chain(\"Plot the average fare per class\")\n",
    "output[\"result\"]"
   ]
  },
  {
   "attachments": {},
   "cell_type": "markdown",
   "id": "15d1962a",
   "metadata": {},
   "source": [
    "You can even specify the plot type you would like!"
   ]
  },
  {
   "cell_type": "code",
   "execution_count": null,
   "id": "f238525a",
   "metadata": {},
   "outputs": [],
   "source": [
    "output = df_chain(\"Plot the average fare per class (bar)\")\n",
    "output[\"result\"]"
   ]
  },
  {
   "cell_type": "code",
   "execution_count": null,
   "id": "f9a291c3",
   "metadata": {},
   "outputs": [],
   "source": []
  }
 ],
 "metadata": {
  "kernelspec": {
   "display_name": "langchain",
   "language": "python",
   "name": "python3"
  },
  "language_info": {
   "codemirror_mode": {
    "name": "ipython",
    "version": 3
   },
   "file_extension": ".py",
   "mimetype": "text/x-python",
   "name": "python",
   "nbconvert_exporter": "python",
   "pygments_lexer": "ipython3",
   "version": "3.10.9"
  },
  "vscode": {
   "interpreter": {
    "hash": "a2cd11e6ea76dc5e930df6257987a7551e047261dd9bf25e424863e78aecb064"
   }
  }
 },
 "nbformat": 4,
 "nbformat_minor": 5
}
